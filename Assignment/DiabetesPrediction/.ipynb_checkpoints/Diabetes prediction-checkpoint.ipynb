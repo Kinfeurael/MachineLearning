{
 "cells": [
  {
   "cell_type": "markdown",
   "id": "f205adbe-3c9f-45a8-b815-3cd85872948f",
   "metadata": {},
   "source": [
    "# Development of a Machine Learning Model for Early Detection of Diabetes"
   ]
  },
  {
   "cell_type": "markdown",
   "id": "eb665b3b-c592-46cc-ab3f-9cdc792299a0",
   "metadata": {},
   "source": [
    "  ## 1.1 Problem Definition\n",
    "    \n",
    "**Diabetes** is a chronic disease with significant health complications, including cardiovscular disease, kidney failure, and vision loss. Early     detection is critical for timely intervention and management. Traditional diagnostic methods rely on invasive and time-consuming tests, such as **blood glucose measurements and Hemoglobin A1c test**.\n",
    "\n",
    "## 1.2 Objective\n",
    "\n",
    "To design and implement a predictive model that can accurately identify individuals at risk of diabetes using clinical and demographic data.\n",
    "The goal is: \n",
    "- To build learning model that achieves high accuracy, precision and recall.\n",
    "- Is interpretable and can explain its predictions to clinicians.\n",
    "- Can be validated in a real-world health care settings.\n",
    " "
   ]
  },
  {
   "cell_type": "markdown",
   "id": "257d6fd2-fd6f-4799-9052-d6f3cf498e78",
   "metadata": {
    "jp-MarkdownHeadingCollapsed": true
   },
   "source": [
    "## 1 Problem Definition"
   ]
  },
  {
   "cell_type": "markdown",
   "id": "b2113a9f-812b-40fe-b9c1-f3277242ec12",
   "metadata": {},
   "source": [
    "### Importing the dependencies"
   ]
  },
  {
   "cell_type": "code",
   "execution_count": 31,
   "id": "ad5bf64e-82d4-4996-91e6-81ff80a838a8",
   "metadata": {},
   "outputs": [],
   "source": [
    "import pandas as pd\n",
    "import numpy as np\n",
    "import seaborn as sns\n",
    "import matplotlib.pyplot as plt\n",
    "import plotly.express as px\n",
    "import itertools\n",
    "import plotly.graph_objects as go\n",
    "\n",
    "from sklearn.metrics import accuracy_score, precision_score, recall_score, f1_score, roc_auc_score\n",
    "from sklearn.model_selection import GridSearchCV, cross_validate\n",
    "from sklearn.preprocessing import StandardScaler, RobustScaler\n",
    "from sklearn.impute import KNNImputer\n",
    "from sklearn.preprocessing import LabelEncoder\n",
    "from sklearn.preprocessing import OneHotEncoder\n",
    "from sklearn.model_selection import train_test_split\n",
    "from sklearn.linear_model import LogisticRegression\n",
    "from sklearn import svm\n",
    "from sklearn.metrics import accuracy_score\n",
    "\n",
    "import pickle\n",
    "import streamlit as st\n",
    "\n",
    "import warnings\n",
    "warnings.simplefilter(action=\"ignore\")"
   ]
  },
  {
   "cell_type": "markdown",
   "id": "707f6772-1a08-4791-aa40-c279d4c910bb",
   "metadata": {},
   "source": [
    "## 2 Data Collection"
   ]
  },
  {
   "cell_type": "code",
   "execution_count": 32,
   "id": "e2123d61-6e9c-4547-b6aa-88f53cf5f6b9",
   "metadata": {},
   "outputs": [],
   "source": [
    "# loading the datatset to a pandas Dataframe\n",
    "diabetes_df = pd.read_csv('diabetes.csv')"
   ]
  },
  {
   "cell_type": "markdown",
   "id": "5bc9b25f-fd11-415e-abc9-6b258e5202ed",
   "metadata": {},
   "source": [
    "## 3 Data Exploration and Preparation"
   ]
  },
  {
   "cell_type": "markdown",
   "id": "ad03290c-9308-48ff-8aff-20a478c1a6cf",
   "metadata": {},
   "source": [
    "### 3.1 Exploratory data Analalaysis(EDA)"
   ]
  },
  {
   "cell_type": "markdown",
   "id": "edfc1f39-b52e-4242-a52c-5d9ec38710e1",
   "metadata": {},
   "source": [
    "#### 3.1.1 Data distribution, relationships, and trends."
   ]
  },
  {
   "cell_type": "code",
   "execution_count": 33,
   "id": "945ac274-547e-4a28-b5a7-746075a9a91d",
   "metadata": {},
   "outputs": [
    {
     "data": {
      "text/plain": [
       "Outcome\n",
       "0    500\n",
       "1    268\n",
       "Name: count, dtype: int64"
      ]
     },
     "execution_count": 33,
     "metadata": {},
     "output_type": "execute_result"
    }
   ],
   "source": [
    "diabetes_df['Outcome'].value_counts()"
   ]
  },
  {
   "cell_type": "code",
   "execution_count": 34,
   "id": "834e5fcf-3a3c-4743-beda-44a6478a3ae8",
   "metadata": {},
   "outputs": [
    {
     "data": {
      "text/html": [
       "<div>\n",
       "<style scoped>\n",
       "    .dataframe tbody tr th:only-of-type {\n",
       "        vertical-align: middle;\n",
       "    }\n",
       "\n",
       "    .dataframe tbody tr th {\n",
       "        vertical-align: top;\n",
       "    }\n",
       "\n",
       "    .dataframe thead th {\n",
       "        text-align: right;\n",
       "    }\n",
       "</style>\n",
       "<table border=\"1\" class=\"dataframe\">\n",
       "  <thead>\n",
       "    <tr style=\"text-align: right;\">\n",
       "      <th></th>\n",
       "      <th>Pregnancies</th>\n",
       "      <th>Glucose</th>\n",
       "      <th>BloodPressure</th>\n",
       "      <th>SkinThickness</th>\n",
       "      <th>Insulin</th>\n",
       "      <th>BMI</th>\n",
       "      <th>DiabetesPedigreeFunction</th>\n",
       "      <th>Age</th>\n",
       "    </tr>\n",
       "    <tr>\n",
       "      <th>Outcome</th>\n",
       "      <th></th>\n",
       "      <th></th>\n",
       "      <th></th>\n",
       "      <th></th>\n",
       "      <th></th>\n",
       "      <th></th>\n",
       "      <th></th>\n",
       "      <th></th>\n",
       "    </tr>\n",
       "  </thead>\n",
       "  <tbody>\n",
       "    <tr>\n",
       "      <th>0</th>\n",
       "      <td>3.298000</td>\n",
       "      <td>109.980000</td>\n",
       "      <td>68.184000</td>\n",
       "      <td>19.664000</td>\n",
       "      <td>68.792000</td>\n",
       "      <td>30.304200</td>\n",
       "      <td>0.429734</td>\n",
       "      <td>31.190000</td>\n",
       "    </tr>\n",
       "    <tr>\n",
       "      <th>1</th>\n",
       "      <td>4.865672</td>\n",
       "      <td>141.257463</td>\n",
       "      <td>70.824627</td>\n",
       "      <td>22.164179</td>\n",
       "      <td>100.335821</td>\n",
       "      <td>35.142537</td>\n",
       "      <td>0.550500</td>\n",
       "      <td>37.067164</td>\n",
       "    </tr>\n",
       "  </tbody>\n",
       "</table>\n",
       "</div>"
      ],
      "text/plain": [
       "         Pregnancies     Glucose  BloodPressure  SkinThickness     Insulin  \\\n",
       "Outcome                                                                      \n",
       "0           3.298000  109.980000      68.184000      19.664000   68.792000   \n",
       "1           4.865672  141.257463      70.824627      22.164179  100.335821   \n",
       "\n",
       "               BMI  DiabetesPedigreeFunction        Age  \n",
       "Outcome                                                  \n",
       "0        30.304200                  0.429734  31.190000  \n",
       "1        35.142537                  0.550500  37.067164  "
      ]
     },
     "execution_count": 34,
     "metadata": {},
     "output_type": "execute_result"
    }
   ],
   "source": [
    "diabetes_df.groupby('Outcome').mean()  "
   ]
  },
  {
   "cell_type": "code",
   "execution_count": 35,
   "id": "2cee7869-824c-44c6-8360-d8807fe6ab58",
   "metadata": {},
   "outputs": [
    {
     "name": "stdout",
     "output_type": "stream",
     "text": [
      "--------Shape------\n",
      "(768, 9)\n",
      "--------DataTypes----\n",
      "Pregnancies                   int64\n",
      "Glucose                       int64\n",
      "BloodPressure                 int64\n",
      "SkinThickness                 int64\n",
      "Insulin                       int64\n",
      "BMI                         float64\n",
      "DiabetesPedigreeFunction    float64\n",
      "Age                           int64\n",
      "Outcome                       int64\n",
      "dtype: object\n",
      "--------Head--------\n",
      "   Pregnancies  Glucose  BloodPressure  SkinThickness  Insulin   BMI  \\\n",
      "0            6      148             72             35        0  33.6   \n",
      "1            1       85             66             29        0  26.6   \n",
      "2            8      183             64              0        0  23.3   \n",
      "3            1       89             66             23       94  28.1   \n",
      "4            0      137             40             35      168  43.1   \n",
      "\n",
      "   DiabetesPedigreeFunction  Age  Outcome  \n",
      "0                     0.627   50        1  \n",
      "1                     0.351   31        0  \n",
      "2                     0.672   32        1  \n",
      "3                     0.167   21        0  \n",
      "4                     2.288   33        1  \n",
      "------Stastical Description----\n",
      "       Pregnancies     Glucose  BloodPressure  SkinThickness     Insulin  \\\n",
      "count   768.000000  768.000000     768.000000     768.000000  768.000000   \n",
      "mean      3.845052  120.894531      69.105469      20.536458   79.799479   \n",
      "std       3.369578   31.972618      19.355807      15.952218  115.244002   \n",
      "min       0.000000    0.000000       0.000000       0.000000    0.000000   \n",
      "25%       1.000000   99.000000      62.000000       0.000000    0.000000   \n",
      "50%       3.000000  117.000000      72.000000      23.000000   30.500000   \n",
      "75%       6.000000  140.250000      80.000000      32.000000  127.250000   \n",
      "max      17.000000  199.000000     122.000000      99.000000  846.000000   \n",
      "\n",
      "              BMI  DiabetesPedigreeFunction         Age     Outcome  \n",
      "count  768.000000                768.000000  768.000000  768.000000  \n",
      "mean    31.992578                  0.471876   33.240885    0.348958  \n",
      "std      7.884160                  0.331329   11.760232    0.476951  \n",
      "min      0.000000                  0.078000   21.000000    0.000000  \n",
      "25%     27.300000                  0.243750   24.000000    0.000000  \n",
      "50%     32.000000                  0.372500   29.000000    0.000000  \n",
      "75%     36.600000                  0.626250   41.000000    1.000000  \n",
      "max     67.100000                  2.420000   81.000000    1.000000  \n",
      "--------Target Count-----\n",
      "Outcome\n",
      "0    500\n",
      "1    268\n",
      "Name: count, dtype: int64\n",
      "--------Grouping------\n",
      "         Pregnancies     Glucose  BloodPressure  SkinThickness     Insulin  \\\n",
      "Outcome                                                                      \n",
      "0           3.298000  109.980000      68.184000      19.664000   68.792000   \n",
      "1           4.865672  141.257463      70.824627      22.164179  100.335821   \n",
      "\n",
      "               BMI  DiabetesPedigreeFunction        Age  \n",
      "Outcome                                                  \n",
      "0        30.304200                  0.429734  31.190000  \n",
      "1        35.142537                  0.550500  37.067164  \n"
     ]
    }
   ],
   "source": [
    "def check_diabetes_df(dataframe, head=5):\n",
    "    print(\"--------Shape------\")\n",
    "    print(dataframe.shape)\n",
    "    print(\"--------DataTypes----\")\n",
    "    print(dataframe.dtypes)\n",
    "    print(\"--------Head--------\")\n",
    "    print(dataframe.head(head))\n",
    "    print(\"------Stastical Description----\")\n",
    "    print(dataframe.describe())\n",
    "    print(\"--------Target Count-----\")\n",
    "    print(dataframe['Outcome'].value_counts())\n",
    "    print(\"--------Grouping------\")\n",
    "    print(dataframe.groupby('Outcome').mean())\n",
    "check_diabetes_df(diabetes_df)"
   ]
  },
  {
   "cell_type": "markdown",
   "id": "b7a9d514-1d94-4a2f-9361-a8c3f352ea56",
   "metadata": {},
   "source": [
    "##### - Detecting Numerical and Catagorical Value"
   ]
  },
  {
   "cell_type": "code",
   "execution_count": 36,
   "id": "23f8e2c9-6725-4add-9587-365d8aca2a10",
   "metadata": {},
   "outputs": [],
   "source": [
    "def grab_col_names(dataframe, cat_th=10, car_th=20):\n",
    "    cat_cols = [col for col in dataframe.columns if dataframe[col].dtypes == \"O\"] \n",
    "\n",
    "    num_but_cat = [col for col in dataframe.columns if dataframe[col].nunique() < cat_th and\n",
    "                   dataframe[col].dtypes != \"O\"]\n",
    "\n",
    "    cat_but_car = [col for col in dataframe.columns if dataframe[col].nunique() > car_th and\n",
    "                   dataframe[col].dtypes == \"O\"]\n",
    "\n",
    "    cat_cols = cat_cols + num_but_cat\n",
    "    cat_cols = [col for col in cat_cols if col not in cat_but_car] \n",
    "\n",
    "    num_cols = [col for col in dataframe.columns if dataframe[col].dtypes != \"O\"] \n",
    "\n",
    "    num_cols = [col for col in num_cols if col not in num_but_cat] \n",
    "    \n",
    "    print(f\"Observations: {dataframe.shape[0]}\") \n",
    "    print(f\"Variables: {dataframe.shape[1]}\") \n",
    "    print(f'cat_cols: {len(cat_cols)}') \n",
    "    print(f'num_cols: {len(num_cols)}') \n",
    "    print(f'cat_but_car: {len(cat_but_car)}') \n",
    "    print(f'num_but_cat: {len(num_but_cat)}') \n",
    "    return cat_cols, num_cols, cat_but_car, num_but_cat"
   ]
  },
  {
   "cell_type": "code",
   "execution_count": 37,
   "id": "9c27b4ad-3a88-418b-807d-497ef557815b",
   "metadata": {},
   "outputs": [
    {
     "name": "stdout",
     "output_type": "stream",
     "text": [
      "Observations: 768\n",
      "Variables: 9\n",
      "cat_cols: 1\n",
      "num_cols: 8\n",
      "cat_but_car: 0\n",
      "num_but_cat: 1\n"
     ]
    }
   ],
   "source": [
    "cat_cols, num_cols, cat_but_car,  num_but_cat = grab_col_names(diabetes_df)"
   ]
  },
  {
   "cell_type": "code",
   "execution_count": 38,
   "id": "8083edd8-6d0b-4722-915d-36f9e8ff7f1b",
   "metadata": {},
   "outputs": [
    {
     "data": {
      "text/plain": [
       "['Outcome']"
      ]
     },
     "execution_count": 38,
     "metadata": {},
     "output_type": "execute_result"
    }
   ],
   "source": [
    "cat_cols"
   ]
  },
  {
   "cell_type": "code",
   "execution_count": 39,
   "id": "c6d99cb6-46fc-42cb-8280-655130c051aa",
   "metadata": {},
   "outputs": [
    {
     "data": {
      "text/plain": [
       "['Pregnancies',\n",
       " 'Glucose',\n",
       " 'BloodPressure',\n",
       " 'SkinThickness',\n",
       " 'Insulin',\n",
       " 'BMI',\n",
       " 'DiabetesPedigreeFunction',\n",
       " 'Age']"
      ]
     },
     "execution_count": 39,
     "metadata": {},
     "output_type": "execute_result"
    }
   ],
   "source": [
    "num_cols"
   ]
  },
  {
   "cell_type": "code",
   "execution_count": 40,
   "id": "3d8d857c-ea6b-4043-b339-3812d08af6a8",
   "metadata": {},
   "outputs": [
    {
     "data": {
      "text/plain": [
       "['Outcome']"
      ]
     },
     "execution_count": 40,
     "metadata": {},
     "output_type": "execute_result"
    }
   ],
   "source": [
    "num_but_cat"
   ]
  },
  {
   "cell_type": "markdown",
   "id": "8511d598-43ab-4569-a508-c97ab5c6a26b",
   "metadata": {
    "jp-MarkdownHeadingCollapsed": true
   },
   "source": [
    "#### 3.1.2 Data Visualization"
   ]
  },
  {
   "cell_type": "markdown",
   "id": "0d980349-98db-4838-9e17-8098c23c64dd",
   "metadata": {},
   "source": [
    "#### A. Analysis For Catagorical data\n",
    "we find out that we only have one catagorical variable(feature)."
   ]
  },
  {
   "cell_type": "code",
   "execution_count": 41,
   "id": "511749e3-ad64-483d-b6b1-b57b433439e4",
   "metadata": {},
   "outputs": [
    {
     "name": "stdout",
     "output_type": "stream",
     "text": [
      "         Outcome   Ratio(%)\n",
      "Outcome                    \n",
      "0            500  65.104167\n",
      "1            268  34.895833\n"
     ]
    },
    {
     "data": {
      "image/png": "[encoded data removed]",
      "text/plain": [
       "<Figure size 640x480 with 1 Axes>"
      ]
     },
     "metadata": {},
     "output_type": "display_data"
    }
   ],
   "source": [
    "def cat_summary(dataframe, col_name, plot=False):\n",
    "    print(pd.DataFrame({col_name: dataframe[col_name].value_counts(),\n",
    "                        \"Ratio(%)\": 100 * dataframe[col_name].value_counts() / len(dataframe)}))\n",
    "    if plot:\n",
    "        sns.countplot(x=dataframe[col_name], data=dataframe)\n",
    "        plt.show(block=True)\n",
    "cat_summary(diabetes_df, \"Outcome\", plot=True)"
   ]
  },
  {
   "cell_type": "markdown",
   "id": "c651a111-f912-4ad2-95e8-e20930ca7cd6",
   "metadata": {},
   "source": [
    "65% Non-diabetic\n",
    "35% Diabetic"
   ]
  },
  {
   "cell_type": "markdown",
   "id": "02a0ec8a-2849-49c0-bd14-527e563977b7",
   "metadata": {},
   "source": [
    "#### B. Analysis for Numerical data"
   ]
  },
  {
   "cell_type": "code",
   "execution_count": 42,
   "id": "203569c5-082d-4a04-888d-a7ceedeb93d4",
   "metadata": {},
   "outputs": [],
   "source": [
    "def num_summary(dataframe, numerical_col, plot=False):\n",
    "    quantiles = [0.05, 0.10, 0.20, 0.30, 0.40, 0.50, 0.60, 0.70, 0.80, 0.90, 0.95, 0.99]\n",
    "    print(dataframe[numerical_col].describe(quantiles).T)\n",
    "\n",
    "    if plot:\n",
    "        dataframe[numerical_col].hist(bins=20)\n",
    "        plt.xlabel(numerical_col)\n",
    "        plt.title(numerical_col)\n",
    "        plt.show(block=True)"
   ]
  },
  {
   "cell_type": "code",
   "execution_count": 43,
   "id": "c106e747-75ff-4284-b9db-aea7f45ad97d",
   "metadata": {},
   "outputs": [
    {
     "name": "stdout",
     "output_type": "stream",
     "text": [
      "count    768.000000\n",
      "mean       3.845052\n",
      "std        3.369578\n",
      "min        0.000000\n",
      "5%         0.000000\n",
      "10%        0.000000\n",
      "20%        1.000000\n",
      "30%        1.000000\n",
      "40%        2.000000\n",
      "50%        3.000000\n",
      "60%        4.000000\n",
      "70%        5.000000\n",
      "80%        7.000000\n",
      "90%        9.000000\n",
      "95%       10.000000\n",
      "99%       13.000000\n",
      "max       17.000000\n",
      "Name: Pregnancies, dtype: float64\n"
     ]
    },
    {
     "data": {
      "image/png": "[encoded data removed]",
      "text/plain": [
       "<Figure size 640x480 with 1 Axes>"
      ]
     },
     "metadata": {},
     "output_type": "display_data"
    },
    {
     "name": "stdout",
     "output_type": "stream",
     "text": [
      "count    768.000000\n",
      "mean     120.894531\n",
      "std       31.972618\n",
      "min        0.000000\n",
      "5%        79.000000\n",
      "10%       85.000000\n",
      "20%       95.000000\n",
      "30%      102.000000\n",
      "40%      109.000000\n",
      "50%      117.000000\n",
      "60%      125.000000\n",
      "70%      134.000000\n",
      "80%      147.000000\n",
      "90%      167.000000\n",
      "95%      181.000000\n",
      "99%      196.000000\n",
      "max      199.000000\n",
      "Name: Glucose, dtype: float64\n"
     ]
    },
    {
     "data": {
      "image/png": "[encoded data removed]",
      "text/plain": [
       "<Figure size 640x480 with 1 Axes>"
      ]
     },
     "metadata": {},
     "output_type": "display_data"
    },
    {
     "name": "stdout",
     "output_type": "stream",
     "text": [
      "count    768.000000\n",
      "mean      69.105469\n",
      "std       19.355807\n",
      "min        0.000000\n",
      "5%        38.700000\n",
      "10%       54.000000\n",
      "20%       60.000000\n",
      "30%       64.000000\n",
      "40%       68.000000\n",
      "50%       72.000000\n",
      "60%       74.000000\n",
      "70%       78.000000\n",
      "80%       82.000000\n",
      "90%       88.000000\n",
      "95%       90.000000\n",
      "99%      106.000000\n",
      "max      122.000000\n",
      "Name: BloodPressure, dtype: float64\n"
     ]
    },
    {
     "data": {
      "image/png": "[encoded data removed]",
      "text/plain": [
       "<Figure size 640x480 with 1 Axes>"
      ]
     },
     "metadata": {},
     "output_type": "display_data"
    },
    {
     "name": "stdout",
     "output_type": "stream",
     "text": [
      "count    768.000000\n",
      "mean      20.536458\n",
      "std       15.952218\n",
      "min        0.000000\n",
      "5%         0.000000\n",
      "10%        0.000000\n",
      "20%        0.000000\n",
      "30%        8.200000\n",
      "40%       18.000000\n",
      "50%       23.000000\n",
      "60%       27.000000\n",
      "70%       31.000000\n",
      "80%       35.000000\n",
      "90%       40.000000\n",
      "95%       44.000000\n",
      "99%       51.330000\n",
      "max       99.000000\n",
      "Name: SkinThickness, dtype: float64\n"
     ]
    },
    {
     "data": {
      "image/png": "[encoded data removed]",
      "text/plain": [
       "<Figure size 640x480 with 1 Axes>"
      ]
     },
     "metadata": {},
     "output_type": "display_data"
    },
    {
     "name": "stdout",
     "output_type": "stream",
     "text": [
      "count    768.000000\n",
      "mean      79.799479\n",
      "std      115.244002\n",
      "min        0.000000\n",
      "5%         0.000000\n",
      "10%        0.000000\n",
      "20%        0.000000\n",
      "30%        0.000000\n",
      "40%        0.000000\n",
      "50%       30.500000\n",
      "60%       72.200000\n",
      "70%      106.000000\n",
      "80%      150.000000\n",
      "90%      210.000000\n",
      "95%      293.000000\n",
      "99%      519.900000\n",
      "max      846.000000\n",
      "Name: Insulin, dtype: float64\n"
     ]
    },
    {
     "data": {
      "image/png": "[encoded data removed]",
      "text/plain": [
       "<Figure size 640x480 with 1 Axes>"
      ]
     },
     "metadata": {},
     "output_type": "display_data"
    },
    {
     "name": "stdout",
     "output_type": "stream",
     "text": [
      "count    768.000000\n",
      "mean      31.992578\n",
      "std        7.884160\n",
      "min        0.000000\n",
      "5%        21.800000\n",
      "10%       23.600000\n",
      "20%       25.900000\n",
      "30%       28.200000\n",
      "40%       30.100000\n",
      "50%       32.000000\n",
      "60%       33.700000\n",
      "70%       35.490000\n",
      "80%       37.800000\n",
      "90%       41.500000\n",
      "95%       44.395000\n",
      "99%       50.759000\n",
      "max       67.100000\n",
      "Name: BMI, dtype: float64\n"
     ]
    },
    {
     "data": {
      "image/png": "[encoded data removed]",
      "text/plain": [
       "<Figure size 640x480 with 1 Axes>"
      ]
     },
     "metadata": {},
     "output_type": "display_data"
    },
    {
     "name": "stdout",
     "output_type": "stream",
     "text": [
      "count    768.000000\n",
      "mean       0.471876\n",
      "std        0.331329\n",
      "min        0.078000\n",
      "5%         0.140350\n",
      "10%        0.165000\n",
      "20%        0.219400\n",
      "30%        0.259000\n",
      "40%        0.302800\n",
      "50%        0.372500\n",
      "60%        0.454200\n",
      "70%        0.563700\n",
      "80%        0.687000\n",
      "90%        0.878600\n",
      "95%        1.132850\n",
      "99%        1.698330\n",
      "max        2.420000\n",
      "Name: DiabetesPedigreeFunction, dtype: float64\n"
     ]
    },
    {
     "data": {
      "image/png": "[encoded data removed]",
      "text/plain": [
       "<Figure size 640x480 with 1 Axes>"
      ]
     },
     "metadata": {},
     "output_type": "display_data"
    },
    {
     "name": "stdout",
     "output_type": "stream",
     "text": [
      "count    768.000000\n",
      "mean      33.240885\n",
      "std       11.760232\n",
      "min       21.000000\n",
      "5%        21.000000\n",
      "10%       22.000000\n",
      "20%       23.000000\n",
      "30%       25.000000\n",
      "40%       27.000000\n",
      "50%       29.000000\n",
      "60%       33.000000\n",
      "70%       38.000000\n",
      "80%       42.600000\n",
      "90%       51.000000\n",
      "95%       58.000000\n",
      "99%       67.000000\n",
      "max       81.000000\n",
      "Name: Age, dtype: float64\n"
     ]
    },
    {
     "data": {
      "image/png": "[encoded data removed]",
      "text/plain": [
       "<Figure size 640x480 with 1 Axes>"
      ]
     },
     "metadata": {},
     "output_type": "display_data"
    }
   ],
   "source": [
    "for col in num_cols:\n",
    "    num_summary(diabetes_df, col, plot=True)"
   ]
  },
  {
   "cell_type": "markdown",
   "id": "db3dfea9-a7a7-448e-a46d-722723d53a90",
   "metadata": {},
   "source": [
    "#### Analysis of Numerical value by target"
   ]
  },
  {
   "cell_type": "code",
   "execution_count": 44,
   "id": "99f5a84c-bf7e-4a30-b25d-9d3d1e9589c0",
   "metadata": {},
   "outputs": [],
   "source": [
    "def target_summary_with_num(dataframe, target, numerical_col, plot=False):\n",
    "    print(pd.DataFrame({numerical_col+'_mean': dataframe.groupby(target)[numerical_col].mean()}), end='\\n\\n\\n')\n",
    "    if plot:\n",
    "        sns.barplot(x=target, y=numerical_col, data=dataframe)\n",
    "        plt.show(block=True)"
   ]
  },
  {
   "cell_type": "code",
   "execution_count": 45,
   "id": "094aa3ba-a35a-4845-b89a-dc4716c83a57",
   "metadata": {},
   "outputs": [
    {
     "name": "stdout",
     "output_type": "stream",
     "text": [
      "         Pregnancies_mean\n",
      "Outcome                  \n",
      "0                3.298000\n",
      "1                4.865672\n",
      "\n",
      "\n"
     ]
    },
    {
     "data": {
      "image/png": "[encoded data removed]",
      "text/plain": [
       "<Figure size 640x480 with 1 Axes>"
      ]
     },
     "metadata": {},
     "output_type": "display_data"
    },
    {
     "name": "stdout",
     "output_type": "stream",
     "text": [
      "         Glucose_mean\n",
      "Outcome              \n",
      "0          109.980000\n",
      "1          141.257463\n",
      "\n",
      "\n"
     ]
    },
    {
     "data": {
      "image/png": "[encoded data removed]",
      "text/plain": [
       "<Figure size 640x480 with 1 Axes>"
      ]
     },
     "metadata": {},
     "output_type": "display_data"
    },
    {
     "name": "stdout",
     "output_type": "stream",
     "text": [
      "         BloodPressure_mean\n",
      "Outcome                    \n",
      "0                 68.184000\n",
      "1                 70.824627\n",
      "\n",
      "\n"
     ]
    },
    {
     "data": {
      "image/png": "[encoded data removed]",
      "text/plain": [
       "<Figure size 640x480 with 1 Axes>"
      ]
     },
     "metadata": {},
     "output_type": "display_data"
    },
    {
     "name": "stdout",
     "output_type": "stream",
     "text": [
      "         SkinThickness_mean\n",
      "Outcome                    \n",
      "0                 19.664000\n",
      "1                 22.164179\n",
      "\n",
      "\n"
     ]
    },
    {
     "data": {
      "image/png": "[encoded data removed]",
      "text/plain": [
       "<Figure size 640x480 with 1 Axes>"
      ]
     },
     "metadata": {},
     "output_type": "display_data"
    },
    {
     "name": "stdout",
     "output_type": "stream",
     "text": [
      "         Insulin_mean\n",
      "Outcome              \n",
      "0           68.792000\n",
      "1          100.335821\n",
      "\n",
      "\n"
     ]
    },
    {
     "data": {
      "image/png": "[encoded data removed]",
      "text/plain": [
       "<Figure size 640x480 with 1 Axes>"
      ]
     },
     "metadata": {},
     "output_type": "display_data"
    },
    {
     "name": "stdout",
     "output_type": "stream",
     "text": [
      "          BMI_mean\n",
      "Outcome           \n",
      "0        30.304200\n",
      "1        35.142537\n",
      "\n",
      "\n"
     ]
    },
    {
     "data": {
      "image/png": "[encoded data removed]",
      "text/plain": [
       "<Figure size 640x480 with 1 Axes>"
      ]
     },
     "metadata": {},
     "output_type": "display_data"
    },
    {
     "name": "stdout",
     "output_type": "stream",
     "text": [
      "         DiabetesPedigreeFunction_mean\n",
      "Outcome                               \n",
      "0                             0.429734\n",
      "1                             0.550500\n",
      "\n",
      "\n"
     ]
    },
    {
     "data": {
      "image/png": "[encoded data removed]",
      "text/plain": [
       "<Figure size 640x480 with 1 Axes>"
      ]
     },
     "metadata": {},
     "output_type": "display_data"
    },
    {
     "name": "stdout",
     "output_type": "stream",
     "text": [
      "          Age_mean\n",
      "Outcome           \n",
      "0        31.190000\n",
      "1        37.067164\n",
      "\n",
      "\n"
     ]
    },
    {
     "data": {
      "image/png": "[encoded data removed]",
      "text/plain": [
       "<Figure size 640x480 with 1 Axes>"
      ]
     },
     "metadata": {},
     "output_type": "display_data"
    }
   ],
   "source": [
    "for col in num_cols:\n",
    "    target_summary_with_num(diabetes_df, \"Outcome\", col, plot=True)"
   ]
  },
  {
   "cell_type": "markdown",
   "id": "3bb65a93-60f5-4767-94bd-3653e993825a",
   "metadata": {},
   "source": [
    "##### C. Corrlation Analysis"
   ]
  },
  {
   "cell_type": "code",
   "execution_count": 46,
   "id": "5dc93da0-945d-401e-a270-84aa4b685f41",
   "metadata": {},
   "outputs": [],
   "source": [
    "corr = diabetes_df[num_cols].corr()"
   ]
  },
  {
   "cell_type": "code",
   "execution_count": 47,
   "id": "7958563f-f1b5-4e29-b53f-0e26d80bb1eb",
   "metadata": {},
   "outputs": [
    {
     "data": {
      "text/html": [
       "<div>\n",
       "<style scoped>\n",
       "    .dataframe tbody tr th:only-of-type {\n",
       "        vertical-align: middle;\n",
       "    }\n",
       "\n",
       "    .dataframe tbody tr th {\n",
       "        vertical-align: top;\n",
       "    }\n",
       "\n",
       "    .dataframe thead th {\n",
       "        text-align: right;\n",
       "    }\n",
       "</style>\n",
       "<table border=\"1\" class=\"dataframe\">\n",
       "  <thead>\n",
       "    <tr style=\"text-align: right;\">\n",
       "      <th></th>\n",
       "      <th>Pregnancies</th>\n",
       "      <th>Glucose</th>\n",
       "      <th>BloodPressure</th>\n",
       "      <th>SkinThickness</th>\n",
       "      <th>Insulin</th>\n",
       "      <th>BMI</th>\n",
       "      <th>DiabetesPedigreeFunction</th>\n",
       "      <th>Age</th>\n",
       "    </tr>\n",
       "  </thead>\n",
       "  <tbody>\n",
       "    <tr>\n",
       "      <th>Pregnancies</th>\n",
       "      <td>1.000000</td>\n",
       "      <td>0.129459</td>\n",
       "      <td>0.141282</td>\n",
       "      <td>-0.081672</td>\n",
       "      <td>-0.073535</td>\n",
       "      <td>0.017683</td>\n",
       "      <td>-0.033523</td>\n",
       "      <td>0.544341</td>\n",
       "    </tr>\n",
       "    <tr>\n",
       "      <th>Glucose</th>\n",
       "      <td>0.129459</td>\n",
       "      <td>1.000000</td>\n",
       "      <td>0.152590</td>\n",
       "      <td>0.057328</td>\n",
       "      <td>0.331357</td>\n",
       "      <td>0.221071</td>\n",
       "      <td>0.137337</td>\n",
       "      <td>0.263514</td>\n",
       "    </tr>\n",
       "    <tr>\n",
       "      <th>BloodPressure</th>\n",
       "      <td>0.141282</td>\n",
       "      <td>0.152590</td>\n",
       "      <td>1.000000</td>\n",
       "      <td>0.207371</td>\n",
       "      <td>0.088933</td>\n",
       "      <td>0.281805</td>\n",
       "      <td>0.041265</td>\n",
       "      <td>0.239528</td>\n",
       "    </tr>\n",
       "    <tr>\n",
       "      <th>SkinThickness</th>\n",
       "      <td>-0.081672</td>\n",
       "      <td>0.057328</td>\n",
       "      <td>0.207371</td>\n",
       "      <td>1.000000</td>\n",
       "      <td>0.436783</td>\n",
       "      <td>0.392573</td>\n",
       "      <td>0.183928</td>\n",
       "      <td>-0.113970</td>\n",
       "    </tr>\n",
       "    <tr>\n",
       "      <th>Insulin</th>\n",
       "      <td>-0.073535</td>\n",
       "      <td>0.331357</td>\n",
       "      <td>0.088933</td>\n",
       "      <td>0.436783</td>\n",
       "      <td>1.000000</td>\n",
       "      <td>0.197859</td>\n",
       "      <td>0.185071</td>\n",
       "      <td>-0.042163</td>\n",
       "    </tr>\n",
       "    <tr>\n",
       "      <th>BMI</th>\n",
       "      <td>0.017683</td>\n",
       "      <td>0.221071</td>\n",
       "      <td>0.281805</td>\n",
       "      <td>0.392573</td>\n",
       "      <td>0.197859</td>\n",
       "      <td>1.000000</td>\n",
       "      <td>0.140647</td>\n",
       "      <td>0.036242</td>\n",
       "    </tr>\n",
       "    <tr>\n",
       "      <th>DiabetesPedigreeFunction</th>\n",
       "      <td>-0.033523</td>\n",
       "      <td>0.137337</td>\n",
       "      <td>0.041265</td>\n",
       "      <td>0.183928</td>\n",
       "      <td>0.185071</td>\n",
       "      <td>0.140647</td>\n",
       "      <td>1.000000</td>\n",
       "      <td>0.033561</td>\n",
       "    </tr>\n",
       "    <tr>\n",
       "      <th>Age</th>\n",
       "      <td>0.544341</td>\n",
       "      <td>0.263514</td>\n",
       "      <td>0.239528</td>\n",
       "      <td>-0.113970</td>\n",
       "      <td>-0.042163</td>\n",
       "      <td>0.036242</td>\n",
       "      <td>0.033561</td>\n",
       "      <td>1.000000</td>\n",
       "    </tr>\n",
       "  </tbody>\n",
       "</table>\n",
       "</div>"
      ],
      "text/plain": [
       "                          Pregnancies   Glucose  BloodPressure  SkinThickness  \\\n",
       "Pregnancies                  1.000000  0.129459       0.141282      -0.081672   \n",
       "Glucose                      0.129459  1.000000       0.152590       0.057328   \n",
       "BloodPressure                0.141282  0.152590       1.000000       0.207371   \n",
       "SkinThickness               -0.081672  0.057328       0.207371       1.000000   \n",
       "Insulin                     -0.073535  0.331357       0.088933       0.436783   \n",
       "BMI                          0.017683  0.221071       0.281805       0.392573   \n",
       "DiabetesPedigreeFunction    -0.033523  0.137337       0.041265       0.183928   \n",
       "Age                          0.544341  0.263514       0.239528      -0.113970   \n",
       "\n",
       "                           Insulin       BMI  DiabetesPedigreeFunction  \\\n",
       "Pregnancies              -0.073535  0.017683                 -0.033523   \n",
       "Glucose                   0.331357  0.221071                  0.137337   \n",
       "BloodPressure             0.088933  0.281805                  0.041265   \n",
       "SkinThickness             0.436783  0.392573                  0.183928   \n",
       "Insulin                   1.000000  0.197859                  0.185071   \n",
       "BMI                       0.197859  1.000000                  0.140647   \n",
       "DiabetesPedigreeFunction  0.185071  0.140647                  1.000000   \n",
       "Age                      -0.042163  0.036242                  0.033561   \n",
       "\n",
       "                               Age  \n",
       "Pregnancies               0.544341  \n",
       "Glucose                   0.263514  \n",
       "BloodPressure             0.239528  \n",
       "SkinThickness            -0.113970  \n",
       "Insulin                  -0.042163  \n",
       "BMI                       0.036242  \n",
       "DiabetesPedigreeFunction  0.033561  \n",
       "Age                       1.000000  "
      ]
     },
     "execution_count": 47,
     "metadata": {},
     "output_type": "execute_result"
    }
   ],
   "source": [
    "corr"
   ]
  },
  {
   "cell_type": "code",
   "execution_count": 48,
   "id": "238a93c8-566c-4de6-a3d6-15b3a03e3737",
   "metadata": {
    "scrolled": true
   },
   "outputs": [
    {
     "data": {
      "image/png": "[encoded data removed]",
      "text/plain": [
       "<Figure size 640x480 with 2 Axes>"
      ]
     },
     "metadata": {},
     "output_type": "display_data"
    }
   ],
   "source": [
    "dataplot = sns.heatmap(diabetes_df.corr(numeric_only=True), cmap=\"RdBu\", annot=True)"
   ]
  },
  {
   "cell_type": "markdown",
   "id": "acadd3f1-180d-449b-9095-5b745369a85e",
   "metadata": {},
   "source": [
    "### 3.2 Data Cleaning"
   ]
  },
  {
   "cell_type": "markdown",
   "id": "37eabeae-b492-4510-a76b-ef0c389cfc43",
   "metadata": {},
   "source": [
    "#### A. Missing Value detection and handling"
   ]
  },
  {
   "cell_type": "code",
   "execution_count": 49,
   "id": "ff33ffd0-d963-4b86-9621-2aa376e92074",
   "metadata": {},
   "outputs": [],
   "source": [
    "# Detection of variables with missing observations filled with zero in the data set.\n",
    "\n",
    "zero_columns = [col for col in diabetes_df.columns\n",
    "                        if (diabetes_df[col].min() == 0 and col not in  [\"Pregnancies\", \"Outcome\"])]"
   ]
  },
  {
   "cell_type": "code",
   "execution_count": 53,
   "id": "eef5ff96-4ed2-427e-9ed1-34678188a682",
   "metadata": {},
   "outputs": [
    {
     "data": {
      "text/plain": [
       "['Glucose', 'BloodPressure', 'SkinThickness', 'Insulin', 'BMI']"
      ]
     },
     "execution_count": 53,
     "metadata": {},
     "output_type": "execute_result"
    }
   ],
   "source": [
    "zero_columns"
   ]
  },
  {
   "cell_type": "code",
   "execution_count": 54,
   "id": "0531c7a9-72f8-4c75-a949-f25134efe23a",
   "metadata": {},
   "outputs": [
    {
     "data": {
      "text/plain": [
       "Pregnancies                 0\n",
       "Glucose                     0\n",
       "BloodPressure               0\n",
       "SkinThickness               0\n",
       "Insulin                     0\n",
       "BMI                         0\n",
       "DiabetesPedigreeFunction    0\n",
       "Age                         0\n",
       "Outcome                     0\n",
       "dtype: int64"
      ]
     },
     "execution_count": 54,
     "metadata": {},
     "output_type": "execute_result"
    }
   ],
   "source": [
    "diabetes_df.isnull().sum()"
   ]
  },
  {
   "cell_type": "code",
   "execution_count": 55,
   "id": "2db1625c-ccaa-4dd2-b431-960a721abfe0",
   "metadata": {},
   "outputs": [],
   "source": [
    "# Filling the missing observations in the dataset with NaN that are filled with zero.\n",
    "\n",
    "for col in zero_columns:\n",
    "    diabetes_df[col] = np.where(diabetes_df[col] == 0, np.nan, diabetes_df[col])"
   ]
  },
  {
   "cell_type": "code",
   "execution_count": 56,
   "id": "a5d0818c-f6bc-4769-9f37-a61dfed33c08",
   "metadata": {},
   "outputs": [
    {
     "data": {
      "text/plain": [
       "Pregnancies                   0\n",
       "Glucose                       5\n",
       "BloodPressure                35\n",
       "SkinThickness               227\n",
       "Insulin                     374\n",
       "BMI                          11\n",
       "DiabetesPedigreeFunction      0\n",
       "Age                           0\n",
       "Outcome                       0\n",
       "dtype: int64"
      ]
     },
     "execution_count": 56,
     "metadata": {},
     "output_type": "execute_result"
    }
   ],
   "source": [
    "diabetes_df.isnull().sum()"
   ]
  },
  {
   "cell_type": "code",
   "execution_count": 57,
   "id": "b8541a1f-63d1-4b26-8a8e-22b7c04ab122",
   "metadata": {},
   "outputs": [],
   "source": [
    "def missing_values_table(dataframe, na_name=False, plot=False):\n",
    "    na_columns = [col for col in dataframe.columns if dataframe[col].isnull().sum() > 0]\n",
    "    n_miss = dataframe[na_columns].isnull().sum().sort_values(ascending=False)\n",
    "    ratio = (dataframe[na_columns].isnull().sum() / dataframe.shape[0] * 100).sort_values(ascending=False)\n",
    "    missing_df = pd.concat([n_miss, np.round(ratio, 2)], axis=1, keys=['n_miss', 'ratio'])\n",
    "    print(missing_df, end=\"\\n\")\n",
    "    if plot:\n",
    "        # Plotting the missing values\n",
    "        plt.figure(figsize=(10, 8))\n",
    "        bars = plt.bar(missing_df.index, missing_df['ratio'], color='purple')\n",
    "        plt.xlabel('Features')\n",
    "        plt.ylabel('Percentage of Missing Values')\n",
    "        plt.title('Missing Values by Feature')\n",
    "        \n",
    "        for bar in bars:\n",
    "            yval = bar.get_height()\n",
    "            plt.text(bar.get_x() + bar.get_width() / 2, yval, f'{yval:.2f}%', ha='center', va='bottom')\n",
    "        \n",
    "        plt.xticks(rotation=90)\n",
    "        plt.tight_layout()\n",
    "        plt.show()\n",
    "    \n",
    "    if na_name:\n",
    "        return na_columns"
   ]
  },
  {
   "cell_type": "code",
   "execution_count": 58,
   "id": "ed3f4d39-1029-4eb0-8605-d11be62b4614",
   "metadata": {},
   "outputs": [
    {
     "name": "stdout",
     "output_type": "stream",
     "text": [
      "               n_miss  ratio\n",
      "Insulin           374  48.70\n",
      "SkinThickness     227  29.56\n",
      "BloodPressure      35   4.56\n",
      "BMI                11   1.43\n",
      "Glucose             5   0.65\n"
     ]
    },
    {
     "data": {
      "image/png": "[encoded data removed]",
      "text/plain": [
       "<Figure size 1000x800 with 1 Axes>"
      ]
     },
     "metadata": {},
     "output_type": "display_data"
    }
   ],
   "source": [
    "na_columns = missing_values_table(diabetes_df, na_name=True, plot=True)"
   ]
  },
  {
   "cell_type": "code",
   "execution_count": 59,
   "id": "8d0d2e1c-ee94-4dd8-b5da-f2cf3d10b25b",
   "metadata": {},
   "outputs": [],
   "source": [
    "dff = diabetes_df[na_columns]"
   ]
  },
  {
   "cell_type": "code",
   "execution_count": 60,
   "id": "e08dc479-e673-4f1e-b6dd-2225e08cf170",
   "metadata": {},
   "outputs": [],
   "source": [
    "rs = RobustScaler()"
   ]
  },
  {
   "cell_type": "code",
   "execution_count": 61,
   "id": "b4f4bbfe-20fe-43fa-b223-4fd56b9a9e3e",
   "metadata": {},
   "outputs": [],
   "source": [
    "dff = pd.DataFrame(rs.fit_transform(dff), columns=dff.columns)"
   ]
  },
  {
   "cell_type": "code",
   "execution_count": 62,
   "id": "0a4e512e-ea2e-4af0-96c0-1021603ef767",
   "metadata": {},
   "outputs": [
    {
     "data": {
      "text/html": [
       "<div>\n",
       "<style scoped>\n",
       "    .dataframe tbody tr th:only-of-type {\n",
       "        vertical-align: middle;\n",
       "    }\n",
       "\n",
       "    .dataframe tbody tr th {\n",
       "        vertical-align: top;\n",
       "    }\n",
       "\n",
       "    .dataframe thead th {\n",
       "        text-align: right;\n",
       "    }\n",
       "</style>\n",
       "<table border=\"1\" class=\"dataframe\">\n",
       "  <thead>\n",
       "    <tr style=\"text-align: right;\">\n",
       "      <th></th>\n",
       "      <th>Glucose</th>\n",
       "      <th>BloodPressure</th>\n",
       "      <th>SkinThickness</th>\n",
       "      <th>Insulin</th>\n",
       "      <th>BMI</th>\n",
       "    </tr>\n",
       "  </thead>\n",
       "  <tbody>\n",
       "    <tr>\n",
       "      <th>0</th>\n",
       "      <td>0.738095</td>\n",
       "      <td>0.000</td>\n",
       "      <td>0.428571</td>\n",
       "      <td>NaN</td>\n",
       "      <td>0.142857</td>\n",
       "    </tr>\n",
       "    <tr>\n",
       "      <th>1</th>\n",
       "      <td>-0.761905</td>\n",
       "      <td>-0.375</td>\n",
       "      <td>0.000000</td>\n",
       "      <td>NaN</td>\n",
       "      <td>-0.626374</td>\n",
       "    </tr>\n",
       "    <tr>\n",
       "      <th>2</th>\n",
       "      <td>1.571429</td>\n",
       "      <td>-0.500</td>\n",
       "      <td>NaN</td>\n",
       "      <td>NaN</td>\n",
       "      <td>-0.989011</td>\n",
       "    </tr>\n",
       "    <tr>\n",
       "      <th>3</th>\n",
       "      <td>-0.666667</td>\n",
       "      <td>-0.375</td>\n",
       "      <td>-0.428571</td>\n",
       "      <td>-0.272527</td>\n",
       "      <td>-0.461538</td>\n",
       "    </tr>\n",
       "    <tr>\n",
       "      <th>4</th>\n",
       "      <td>0.476190</td>\n",
       "      <td>-2.000</td>\n",
       "      <td>0.428571</td>\n",
       "      <td>0.378022</td>\n",
       "      <td>1.186813</td>\n",
       "    </tr>\n",
       "  </tbody>\n",
       "</table>\n",
       "</div>"
      ],
      "text/plain": [
       "    Glucose  BloodPressure  SkinThickness   Insulin       BMI\n",
       "0  0.738095          0.000       0.428571       NaN  0.142857\n",
       "1 -0.761905         -0.375       0.000000       NaN -0.626374\n",
       "2  1.571429         -0.500            NaN       NaN -0.989011\n",
       "3 -0.666667         -0.375      -0.428571 -0.272527 -0.461538\n",
       "4  0.476190         -2.000       0.428571  0.378022  1.186813"
      ]
     },
     "execution_count": 62,
     "metadata": {},
     "output_type": "execute_result"
    }
   ],
   "source": [
    "dff.head()"
   ]
  },
  {
   "cell_type": "code",
   "execution_count": 63,
   "id": "3a6b6cf7-9498-4825-81f5-ba751705554c",
   "metadata": {},
   "outputs": [],
   "source": [
    "# Filing the missing observations using knn imputers\n",
    "dff = pd.DataFrame(KNNImputer(n_neighbors=5).fit_transform(dff), columns = dff.columns)"
   ]
  },
  {
   "cell_type": "code",
   "execution_count": 64,
   "id": "d09ae99e-c85a-4c37-9104-b09fba66a890",
   "metadata": {},
   "outputs": [
    {
     "data": {
      "text/html": [
       "<div>\n",
       "<style scoped>\n",
       "    .dataframe tbody tr th:only-of-type {\n",
       "        vertical-align: middle;\n",
       "    }\n",
       "\n",
       "    .dataframe tbody tr th {\n",
       "        vertical-align: top;\n",
       "    }\n",
       "\n",
       "    .dataframe thead th {\n",
       "        text-align: right;\n",
       "    }\n",
       "</style>\n",
       "<table border=\"1\" class=\"dataframe\">\n",
       "  <thead>\n",
       "    <tr style=\"text-align: right;\">\n",
       "      <th></th>\n",
       "      <th>Glucose</th>\n",
       "      <th>BloodPressure</th>\n",
       "      <th>SkinThickness</th>\n",
       "      <th>Insulin</th>\n",
       "      <th>BMI</th>\n",
       "    </tr>\n",
       "  </thead>\n",
       "  <tbody>\n",
       "    <tr>\n",
       "      <th>0</th>\n",
       "      <td>0.738095</td>\n",
       "      <td>0.000</td>\n",
       "      <td>0.428571</td>\n",
       "      <td>0.624176</td>\n",
       "      <td>0.142857</td>\n",
       "    </tr>\n",
       "    <tr>\n",
       "      <th>1</th>\n",
       "      <td>-0.761905</td>\n",
       "      <td>-0.375</td>\n",
       "      <td>0.000000</td>\n",
       "      <td>-0.451868</td>\n",
       "      <td>-0.626374</td>\n",
       "    </tr>\n",
       "    <tr>\n",
       "      <th>2</th>\n",
       "      <td>1.571429</td>\n",
       "      <td>-0.500</td>\n",
       "      <td>-0.242857</td>\n",
       "      <td>0.819341</td>\n",
       "      <td>-0.989011</td>\n",
       "    </tr>\n",
       "    <tr>\n",
       "      <th>3</th>\n",
       "      <td>-0.666667</td>\n",
       "      <td>-0.375</td>\n",
       "      <td>-0.428571</td>\n",
       "      <td>-0.272527</td>\n",
       "      <td>-0.461538</td>\n",
       "    </tr>\n",
       "    <tr>\n",
       "      <th>4</th>\n",
       "      <td>0.476190</td>\n",
       "      <td>-2.000</td>\n",
       "      <td>0.428571</td>\n",
       "      <td>0.378022</td>\n",
       "      <td>1.186813</td>\n",
       "    </tr>\n",
       "  </tbody>\n",
       "</table>\n",
       "</div>"
      ],
      "text/plain": [
       "    Glucose  BloodPressure  SkinThickness   Insulin       BMI\n",
       "0  0.738095          0.000       0.428571  0.624176  0.142857\n",
       "1 -0.761905         -0.375       0.000000 -0.451868 -0.626374\n",
       "2  1.571429         -0.500      -0.242857  0.819341 -0.989011\n",
       "3 -0.666667         -0.375      -0.428571 -0.272527 -0.461538\n",
       "4  0.476190         -2.000       0.428571  0.378022  1.186813"
      ]
     },
     "execution_count": 64,
     "metadata": {},
     "output_type": "execute_result"
    }
   ],
   "source": [
    "dff.head()"
   ]
  },
  {
   "cell_type": "code",
   "execution_count": 65,
   "id": "445321ea-a451-4e37-b448-9706429a8604",
   "metadata": {},
   "outputs": [],
   "source": [
    "dff = pd.DataFrame(rs.inverse_transform(dff), columns=dff.columns)"
   ]
  },
  {
   "cell_type": "code",
   "execution_count": 66,
   "id": "2679c2eb-88e4-4010-a32b-029b096a022c",
   "metadata": {},
   "outputs": [
    {
     "data": {
      "text/html": [
       "<div>\n",
       "<style scoped>\n",
       "    .dataframe tbody tr th:only-of-type {\n",
       "        vertical-align: middle;\n",
       "    }\n",
       "\n",
       "    .dataframe tbody tr th {\n",
       "        vertical-align: top;\n",
       "    }\n",
       "\n",
       "    .dataframe thead th {\n",
       "        text-align: right;\n",
       "    }\n",
       "</style>\n",
       "<table border=\"1\" class=\"dataframe\">\n",
       "  <thead>\n",
       "    <tr style=\"text-align: right;\">\n",
       "      <th></th>\n",
       "      <th>Glucose</th>\n",
       "      <th>BloodPressure</th>\n",
       "      <th>SkinThickness</th>\n",
       "      <th>Insulin</th>\n",
       "      <th>BMI</th>\n",
       "    </tr>\n",
       "  </thead>\n",
       "  <tbody>\n",
       "    <tr>\n",
       "      <th>0</th>\n",
       "      <td>148.0</td>\n",
       "      <td>72.0</td>\n",
       "      <td>35.0</td>\n",
       "      <td>196.0</td>\n",
       "      <td>33.6</td>\n",
       "    </tr>\n",
       "    <tr>\n",
       "      <th>1</th>\n",
       "      <td>85.0</td>\n",
       "      <td>66.0</td>\n",
       "      <td>29.0</td>\n",
       "      <td>73.6</td>\n",
       "      <td>26.6</td>\n",
       "    </tr>\n",
       "    <tr>\n",
       "      <th>2</th>\n",
       "      <td>183.0</td>\n",
       "      <td>64.0</td>\n",
       "      <td>25.6</td>\n",
       "      <td>218.2</td>\n",
       "      <td>23.3</td>\n",
       "    </tr>\n",
       "    <tr>\n",
       "      <th>3</th>\n",
       "      <td>89.0</td>\n",
       "      <td>66.0</td>\n",
       "      <td>23.0</td>\n",
       "      <td>94.0</td>\n",
       "      <td>28.1</td>\n",
       "    </tr>\n",
       "    <tr>\n",
       "      <th>4</th>\n",
       "      <td>137.0</td>\n",
       "      <td>40.0</td>\n",
       "      <td>35.0</td>\n",
       "      <td>168.0</td>\n",
       "      <td>43.1</td>\n",
       "    </tr>\n",
       "  </tbody>\n",
       "</table>\n",
       "</div>"
      ],
      "text/plain": [
       "   Glucose  BloodPressure  SkinThickness  Insulin   BMI\n",
       "0    148.0           72.0           35.0    196.0  33.6\n",
       "1     85.0           66.0           29.0     73.6  26.6\n",
       "2    183.0           64.0           25.6    218.2  23.3\n",
       "3     89.0           66.0           23.0     94.0  28.1\n",
       "4    137.0           40.0           35.0    168.0  43.1"
      ]
     },
     "execution_count": 66,
     "metadata": {},
     "output_type": "execute_result"
    }
   ],
   "source": [
    "dff.head()"
   ]
  },
  {
   "cell_type": "code",
   "execution_count": 67,
   "id": "06032f5a-d7c7-4d39-b719-d9cc40ef9724",
   "metadata": {},
   "outputs": [],
   "source": [
    "diabetes_df[na_columns] = dff"
   ]
  },
  {
   "cell_type": "code",
   "execution_count": 68,
   "id": "19cf8c97-c330-4362-bce0-83d6c99e89a0",
   "metadata": {},
   "outputs": [
    {
     "data": {
      "text/html": [
       "<div>\n",
       "<style scoped>\n",
       "    .dataframe tbody tr th:only-of-type {\n",
       "        vertical-align: middle;\n",
       "    }\n",
       "\n",
       "    .dataframe tbody tr th {\n",
       "        vertical-align: top;\n",
       "    }\n",
       "\n",
       "    .dataframe thead th {\n",
       "        text-align: right;\n",
       "    }\n",
       "</style>\n",
       "<table border=\"1\" class=\"dataframe\">\n",
       "  <thead>\n",
       "    <tr style=\"text-align: right;\">\n",
       "      <th></th>\n",
       "      <th>Pregnancies</th>\n",
       "      <th>Glucose</th>\n",
       "      <th>BloodPressure</th>\n",
       "      <th>SkinThickness</th>\n",
       "      <th>Insulin</th>\n",
       "      <th>BMI</th>\n",
       "      <th>DiabetesPedigreeFunction</th>\n",
       "      <th>Age</th>\n",
       "      <th>Outcome</th>\n",
       "    </tr>\n",
       "  </thead>\n",
       "  <tbody>\n",
       "    <tr>\n",
       "      <th>0</th>\n",
       "      <td>6</td>\n",
       "      <td>148.0</td>\n",
       "      <td>72.0</td>\n",
       "      <td>35.0</td>\n",
       "      <td>196.0</td>\n",
       "      <td>33.6</td>\n",
       "      <td>0.627</td>\n",
       "      <td>50</td>\n",
       "      <td>1</td>\n",
       "    </tr>\n",
       "    <tr>\n",
       "      <th>1</th>\n",
       "      <td>1</td>\n",
       "      <td>85.0</td>\n",
       "      <td>66.0</td>\n",
       "      <td>29.0</td>\n",
       "      <td>73.6</td>\n",
       "      <td>26.6</td>\n",
       "      <td>0.351</td>\n",
       "      <td>31</td>\n",
       "      <td>0</td>\n",
       "    </tr>\n",
       "    <tr>\n",
       "      <th>2</th>\n",
       "      <td>8</td>\n",
       "      <td>183.0</td>\n",
       "      <td>64.0</td>\n",
       "      <td>25.6</td>\n",
       "      <td>218.2</td>\n",
       "      <td>23.3</td>\n",
       "      <td>0.672</td>\n",
       "      <td>32</td>\n",
       "      <td>1</td>\n",
       "    </tr>\n",
       "    <tr>\n",
       "      <th>3</th>\n",
       "      <td>1</td>\n",
       "      <td>89.0</td>\n",
       "      <td>66.0</td>\n",
       "      <td>23.0</td>\n",
       "      <td>94.0</td>\n",
       "      <td>28.1</td>\n",
       "      <td>0.167</td>\n",
       "      <td>21</td>\n",
       "      <td>0</td>\n",
       "    </tr>\n",
       "    <tr>\n",
       "      <th>4</th>\n",
       "      <td>0</td>\n",
       "      <td>137.0</td>\n",
       "      <td>40.0</td>\n",
       "      <td>35.0</td>\n",
       "      <td>168.0</td>\n",
       "      <td>43.1</td>\n",
       "      <td>2.288</td>\n",
       "      <td>33</td>\n",
       "      <td>1</td>\n",
       "    </tr>\n",
       "    <tr>\n",
       "      <th>5</th>\n",
       "      <td>5</td>\n",
       "      <td>116.0</td>\n",
       "      <td>74.0</td>\n",
       "      <td>24.2</td>\n",
       "      <td>85.0</td>\n",
       "      <td>25.6</td>\n",
       "      <td>0.201</td>\n",
       "      <td>30</td>\n",
       "      <td>0</td>\n",
       "    </tr>\n",
       "    <tr>\n",
       "      <th>6</th>\n",
       "      <td>3</td>\n",
       "      <td>78.0</td>\n",
       "      <td>50.0</td>\n",
       "      <td>32.0</td>\n",
       "      <td>88.0</td>\n",
       "      <td>31.0</td>\n",
       "      <td>0.248</td>\n",
       "      <td>26</td>\n",
       "      <td>1</td>\n",
       "    </tr>\n",
       "    <tr>\n",
       "      <th>7</th>\n",
       "      <td>10</td>\n",
       "      <td>115.0</td>\n",
       "      <td>69.4</td>\n",
       "      <td>36.6</td>\n",
       "      <td>123.2</td>\n",
       "      <td>35.3</td>\n",
       "      <td>0.134</td>\n",
       "      <td>29</td>\n",
       "      <td>0</td>\n",
       "    </tr>\n",
       "    <tr>\n",
       "      <th>8</th>\n",
       "      <td>2</td>\n",
       "      <td>197.0</td>\n",
       "      <td>70.0</td>\n",
       "      <td>45.0</td>\n",
       "      <td>543.0</td>\n",
       "      <td>30.5</td>\n",
       "      <td>0.158</td>\n",
       "      <td>53</td>\n",
       "      <td>1</td>\n",
       "    </tr>\n",
       "    <tr>\n",
       "      <th>9</th>\n",
       "      <td>8</td>\n",
       "      <td>125.0</td>\n",
       "      <td>96.0</td>\n",
       "      <td>40.2</td>\n",
       "      <td>163.6</td>\n",
       "      <td>31.1</td>\n",
       "      <td>0.232</td>\n",
       "      <td>54</td>\n",
       "      <td>1</td>\n",
       "    </tr>\n",
       "  </tbody>\n",
       "</table>\n",
       "</div>"
      ],
      "text/plain": [
       "   Pregnancies  Glucose  BloodPressure  SkinThickness  Insulin   BMI  \\\n",
       "0            6    148.0           72.0           35.0    196.0  33.6   \n",
       "1            1     85.0           66.0           29.0     73.6  26.6   \n",
       "2            8    183.0           64.0           25.6    218.2  23.3   \n",
       "3            1     89.0           66.0           23.0     94.0  28.1   \n",
       "4            0    137.0           40.0           35.0    168.0  43.1   \n",
       "5            5    116.0           74.0           24.2     85.0  25.6   \n",
       "6            3     78.0           50.0           32.0     88.0  31.0   \n",
       "7           10    115.0           69.4           36.6    123.2  35.3   \n",
       "8            2    197.0           70.0           45.0    543.0  30.5   \n",
       "9            8    125.0           96.0           40.2    163.6  31.1   \n",
       "\n",
       "   DiabetesPedigreeFunction  Age  Outcome  \n",
       "0                     0.627   50        1  \n",
       "1                     0.351   31        0  \n",
       "2                     0.672   32        1  \n",
       "3                     0.167   21        0  \n",
       "4                     2.288   33        1  \n",
       "5                     0.201   30        0  \n",
       "6                     0.248   26        1  \n",
       "7                     0.134   29        0  \n",
       "8                     0.158   53        1  \n",
       "9                     0.232   54        1  "
      ]
     },
     "execution_count": 68,
     "metadata": {},
     "output_type": "execute_result"
    }
   ],
   "source": [
    "diabetes_df.head(10)"
   ]
  },
  {
   "cell_type": "code",
   "execution_count": 69,
   "id": "81a664d4-c22f-4561-bfea-ab644d6409f1",
   "metadata": {},
   "outputs": [
    {
     "data": {
      "text/plain": [
       "Pregnancies                 0\n",
       "Glucose                     0\n",
       "BloodPressure               0\n",
       "SkinThickness               0\n",
       "Insulin                     0\n",
       "BMI                         0\n",
       "DiabetesPedigreeFunction    0\n",
       "Age                         0\n",
       "Outcome                     0\n",
       "dtype: int64"
      ]
     },
     "execution_count": 69,
     "metadata": {},
     "output_type": "execute_result"
    }
   ],
   "source": [
    "# checking missing values after filling them using knn imputation\n",
    "diabetes_df.isnull().sum()"
   ]
  },
  {
   "cell_type": "markdown",
   "id": "2c905272-df7f-451c-89f3-8c476160c8b1",
   "metadata": {},
   "source": [
    "#### B. Outlier Analysis"
   ]
  },
  {
   "cell_type": "code",
   "execution_count": 70,
   "id": "87cb793a-c240-4fec-99ae-021ce9e79d19",
   "metadata": {},
   "outputs": [],
   "source": [
    "# setting the outlier threshold using the tukey method \n",
    "def outlier_thresholds(dataframe, col_name, q1=0.05, q3=0.95):\n",
    "    quartile1 = dataframe[col_name].quantile(q1)\n",
    "    quartile3 = dataframe[col_name].quantile(q3)\n",
    "    interquantile_range = quartile3 - quartile1\n",
    "    up_limit = quartile3 + 1.5 * interquantile_range\n",
    "    low_limit = quartile1 - 1.5 * interquantile_range\n",
    "    return low_limit, up_limit"
   ]
  },
  {
   "cell_type": "code",
   "execution_count": 71,
   "id": "ba990244-594a-485b-a247-2a3eeae13fe4",
   "metadata": {},
   "outputs": [],
   "source": [
    "# checking outlier\n",
    "def check_outlier(dataframe, col_name):\n",
    "    low_limit, up_limit = outlier_thresholds(dataframe, col_name)\n",
    "    if dataframe[(dataframe[col_name] > up_limit) | (dataframe[col_name] < low_limit)].any(axis=None):\n",
    "        return True\n",
    "    else:\n",
    "        return False"
   ]
  },
  {
   "cell_type": "code",
   "execution_count": 72,
   "id": "4bd032a8-34d9-47e1-b2c5-bf4715592f13",
   "metadata": {},
   "outputs": [],
   "source": [
    "# checking outlier using boxplot\n",
    "def check_outlier(dataframe, col_name, plot=False):\n",
    "    low_limit, up_limit = outlier_thresholds(dataframe, col_name)\n",
    "    outliers = dataframe[(dataframe[col_name] > up_limit) | (dataframe[col_name] < low_limit)]\n",
    "    if outliers.any(axis=None):\n",
    "        if plot:\n",
    "            plt.figure(figsize=(8, 6))\n",
    "            sns.boxplot(x=dataframe[col_name])\n",
    "            plt.title(f'Outliers in {col_name}')\n",
    "            plt.show()\n",
    "        return True\n",
    "    else:\n",
    "        return False"
   ]
  },
  {
   "cell_type": "code",
   "execution_count": 73,
   "id": "edbe6a31-4161-4ec5-ab0c-7bb0901a9e91",
   "metadata": {},
   "outputs": [],
   "source": [
    "# replacing with threshold \n",
    "def replace_with_thresholds(dataframe, variable, q1=0.05, q3=0.95):\n",
    "    low_limit, up_limit = outlier_thresholds(dataframe, variable, q1=0.05, q3=0.95)\n",
    "    dataframe.loc[(dataframe[variable] < low_limit), variable] = low_limit\n",
    "    dataframe.loc[(dataframe[variable] > up_limit), variable] = up_limit"
   ]
  },
  {
   "cell_type": "code",
   "execution_count": 74,
   "id": "0ffe5f75-7b2f-4c61-a2b7-f6badc5222a9",
   "metadata": {},
   "outputs": [
    {
     "name": "stdout",
     "output_type": "stream",
     "text": [
      "Pregnancies False\n",
      "Glucose False\n",
      "BloodPressure False\n"
     ]
    },
    {
     "data": {
      "image/png": "[encoded data removed]",
      "text/plain": [
       "<Figure size 800x600 with 1 Axes>"
      ]
     },
     "metadata": {},
     "output_type": "display_data"
    },
    {
     "name": "stdout",
     "output_type": "stream",
     "text": [
      "SkinThickness True\n"
     ]
    },
    {
     "data": {
      "image/png": "[encoded data removed]",
      "text/plain": [
       "<Figure size 800x600 with 1 Axes>"
      ]
     },
     "metadata": {},
     "output_type": "display_data"
    },
    {
     "data": {
      "image/png": "[encoded data removed]",
      "text/plain": [
       "<Figure size 800x600 with 1 Axes>"
      ]
     },
     "metadata": {},
     "output_type": "display_data"
    },
    {
     "name": "stdout",
     "output_type": "stream",
     "text": [
      "Insulin True\n"
     ]
    },
    {
     "data": {
      "image/png": "[encoded data removed]",
      "text/plain": [
       "<Figure size 800x600 with 1 Axes>"
      ]
     },
     "metadata": {},
     "output_type": "display_data"
    },
    {
     "name": "stdout",
     "output_type": "stream",
     "text": [
      "BMI False\n",
      "DiabetesPedigreeFunction False\n",
      "Age False\n",
      "Outcome False\n"
     ]
    }
   ],
   "source": [
    "# results for the above functions\n",
    "for col in diabetes_df.columns:\n",
    "    print(col, check_outlier(diabetes_df, col, plot=True))\n",
    "    if check_outlier(diabetes_df, col, plot=True):\n",
    "        replace_with_thresholds(diabetes_df, col)"
   ]
  },
  {
   "cell_type": "code",
   "execution_count": 75,
   "id": "9903fdaa-2372-47b4-8c4e-60dc31419647",
   "metadata": {},
   "outputs": [
    {
     "name": "stdout",
     "output_type": "stream",
     "text": [
      "Pregnancies False\n",
      "Glucose False\n",
      "BloodPressure False\n",
      "SkinThickness False\n",
      "Insulin False\n",
      "BMI False\n",
      "DiabetesPedigreeFunction False\n",
      "Age False\n",
      "Outcome False\n"
     ]
    }
   ],
   "source": [
    "for col in diabetes_df.columns:\n",
    "    print(col, check_outlier(diabetes_df, col))"
   ]
  },
  {
   "cell_type": "markdown",
   "id": "d740f13f-05b6-4fd8-8fe7-da53a67c7e54",
   "metadata": {},
   "source": [
    "**No outlier is visible here.**"
   ]
  },
  {
   "cell_type": "markdown",
   "id": "d2a10495-387e-4a7b-9bad-3f3ddea7cda4",
   "metadata": {},
   "source": [
    "### 3.3 Feature Engineering"
   ]
  },
  {
   "cell_type": "markdown",
   "id": "5483f85d-0c60-40e8-97d8-08620c722497",
   "metadata": {},
   "source": [
    "#### Feature Extraction"
   ]
  },
  {
   "cell_type": "code",
   "execution_count": 76,
   "id": "6172b572-fcef-4e75-86b2-c06a5f55f8fa",
   "metadata": {},
   "outputs": [],
   "source": [
    "# Converting BMI to catagorical value below 18.5 is underweight, between 18.5 and 24.9 is normal, between 24.9 and 29.9 is overweight and above 30 is obese\n",
    "\n",
    "diabetes_df['NEW_BMI'] = pd.cut(x=diabetes_df['BMI'], bins=[0, 18.5, 24.9, 29.9, 100],labels=[\"Underweight\", \"Healthy\", \"Overweight\", \"Obese\"])"
   ]
  },
  {
   "cell_type": "code",
   "execution_count": 77,
   "id": "f94373ca-56fe-4c06-807d-5bbf9e8373ed",
   "metadata": {},
   "outputs": [
    {
     "data": {
      "text/html": [
       "<div>\n",
       "<style scoped>\n",
       "    .dataframe tbody tr th:only-of-type {\n",
       "        vertical-align: middle;\n",
       "    }\n",
       "\n",
       "    .dataframe tbody tr th {\n",
       "        vertical-align: top;\n",
       "    }\n",
       "\n",
       "    .dataframe thead th {\n",
       "        text-align: right;\n",
       "    }\n",
       "</style>\n",
       "<table border=\"1\" class=\"dataframe\">\n",
       "  <thead>\n",
       "    <tr style=\"text-align: right;\">\n",
       "      <th></th>\n",
       "      <th>Pregnancies</th>\n",
       "      <th>Glucose</th>\n",
       "      <th>BloodPressure</th>\n",
       "      <th>SkinThickness</th>\n",
       "      <th>Insulin</th>\n",
       "      <th>BMI</th>\n",
       "      <th>DiabetesPedigreeFunction</th>\n",
       "      <th>Age</th>\n",
       "      <th>Outcome</th>\n",
       "      <th>NEW_BMI</th>\n",
       "    </tr>\n",
       "  </thead>\n",
       "  <tbody>\n",
       "    <tr>\n",
       "      <th>0</th>\n",
       "      <td>6</td>\n",
       "      <td>148.0</td>\n",
       "      <td>72.0</td>\n",
       "      <td>35.0</td>\n",
       "      <td>196.0</td>\n",
       "      <td>33.6</td>\n",
       "      <td>0.627</td>\n",
       "      <td>50</td>\n",
       "      <td>1</td>\n",
       "      <td>Obese</td>\n",
       "    </tr>\n",
       "    <tr>\n",
       "      <th>1</th>\n",
       "      <td>1</td>\n",
       "      <td>85.0</td>\n",
       "      <td>66.0</td>\n",
       "      <td>29.0</td>\n",
       "      <td>73.6</td>\n",
       "      <td>26.6</td>\n",
       "      <td>0.351</td>\n",
       "      <td>31</td>\n",
       "      <td>0</td>\n",
       "      <td>Overweight</td>\n",
       "    </tr>\n",
       "    <tr>\n",
       "      <th>2</th>\n",
       "      <td>8</td>\n",
       "      <td>183.0</td>\n",
       "      <td>64.0</td>\n",
       "      <td>25.6</td>\n",
       "      <td>218.2</td>\n",
       "      <td>23.3</td>\n",
       "      <td>0.672</td>\n",
       "      <td>32</td>\n",
       "      <td>1</td>\n",
       "      <td>Healthy</td>\n",
       "    </tr>\n",
       "    <tr>\n",
       "      <th>3</th>\n",
       "      <td>1</td>\n",
       "      <td>89.0</td>\n",
       "      <td>66.0</td>\n",
       "      <td>23.0</td>\n",
       "      <td>94.0</td>\n",
       "      <td>28.1</td>\n",
       "      <td>0.167</td>\n",
       "      <td>21</td>\n",
       "      <td>0</td>\n",
       "      <td>Overweight</td>\n",
       "    </tr>\n",
       "    <tr>\n",
       "      <th>4</th>\n",
       "      <td>0</td>\n",
       "      <td>137.0</td>\n",
       "      <td>40.0</td>\n",
       "      <td>35.0</td>\n",
       "      <td>168.0</td>\n",
       "      <td>43.1</td>\n",
       "      <td>2.288</td>\n",
       "      <td>33</td>\n",
       "      <td>1</td>\n",
       "      <td>Obese</td>\n",
       "    </tr>\n",
       "  </tbody>\n",
       "</table>\n",
       "</div>"
      ],
      "text/plain": [
       "   Pregnancies  Glucose  BloodPressure  SkinThickness  Insulin   BMI  \\\n",
       "0            6    148.0           72.0           35.0    196.0  33.6   \n",
       "1            1     85.0           66.0           29.0     73.6  26.6   \n",
       "2            8    183.0           64.0           25.6    218.2  23.3   \n",
       "3            1     89.0           66.0           23.0     94.0  28.1   \n",
       "4            0    137.0           40.0           35.0    168.0  43.1   \n",
       "\n",
       "   DiabetesPedigreeFunction  Age  Outcome     NEW_BMI  \n",
       "0                     0.627   50        1       Obese  \n",
       "1                     0.351   31        0  Overweight  \n",
       "2                     0.672   32        1     Healthy  \n",
       "3                     0.167   21        0  Overweight  \n",
       "4                     2.288   33        1       Obese  "
      ]
     },
     "execution_count": 77,
     "metadata": {},
     "output_type": "execute_result"
    }
   ],
   "source": [
    "diabetes_df.head()"
   ]
  },
  {
   "cell_type": "code",
   "execution_count": 78,
   "id": "54796c0e-7b3c-458b-9cf4-00f9550d5c92",
   "metadata": {},
   "outputs": [],
   "source": [
    "# Converting Glucose Value to Categorical feature\n",
    "\n",
    "diabetes_df[\"NEW_GLUCOSE\"] = pd.cut(x=diabetes_df[\"Glucose\"], bins=[0, 140, 200, 300], labels=[\"Normal\", \"Prediabetes\", \"Diabetes\"])"
   ]
  },
  {
   "cell_type": "code",
   "execution_count": 79,
   "id": "d164e8bb-0cac-48ce-8eed-9eeddec0b23e",
   "metadata": {},
   "outputs": [],
   "source": [
    "# Deriving a Categorical feature with Insulin Value.\n",
    "\n",
    "def set_insulin(dataframe, col_name=\"Insulin\"):\n",
    "    if 16 <= dataframe[col_name] <= 166:\n",
    "        return\n",
    "    else:\n",
    "        return \"Abnormal\"\n",
    "\n",
    "diabetes_df[\"NEW_INSULIN_SCORE\"] = diabetes_df.apply(set_insulin, axis=1)\n",
    "diabetes_df[\"NEW_GLUCOSE * INSULIN\"] =diabetes_df[\"Glucose\"] * diabetes_df[\"Insulin\"]"
   ]
  },
  {
   "cell_type": "code",
   "execution_count": 80,
   "id": "ddc4937b-6ed1-4496-9a13-e0c977597c65",
   "metadata": {},
   "outputs": [],
   "source": [
    "# Translating Column Names to Uppercase Letters.\n",
    "\n",
    "diabetes_df.columns = [col.upper() for col in diabetes_df.columns]"
   ]
  },
  {
   "cell_type": "code",
   "execution_count": 81,
   "id": "98c7ecfb-8de7-4fcf-8b80-fef04c76a09b",
   "metadata": {},
   "outputs": [
    {
     "data": {
      "text/html": [
       "<div>\n",
       "<style scoped>\n",
       "    .dataframe tbody tr th:only-of-type {\n",
       "        vertical-align: middle;\n",
       "    }\n",
       "\n",
       "    .dataframe tbody tr th {\n",
       "        vertical-align: top;\n",
       "    }\n",
       "\n",
       "    .dataframe thead th {\n",
       "        text-align: right;\n",
       "    }\n",
       "</style>\n",
       "<table border=\"1\" class=\"dataframe\">\n",
       "  <thead>\n",
       "    <tr style=\"text-align: right;\">\n",
       "      <th></th>\n",
       "      <th>PREGNANCIES</th>\n",
       "      <th>GLUCOSE</th>\n",
       "      <th>BLOODPRESSURE</th>\n",
       "      <th>SKINTHICKNESS</th>\n",
       "      <th>INSULIN</th>\n",
       "      <th>BMI</th>\n",
       "      <th>DIABETESPEDIGREEFUNCTION</th>\n",
       "      <th>AGE</th>\n",
       "      <th>OUTCOME</th>\n",
       "      <th>NEW_BMI</th>\n",
       "      <th>NEW_GLUCOSE</th>\n",
       "      <th>NEW_INSULIN_SCORE</th>\n",
       "      <th>NEW_GLUCOSE * INSULIN</th>\n",
       "    </tr>\n",
       "  </thead>\n",
       "  <tbody>\n",
       "    <tr>\n",
       "      <th>0</th>\n",
       "      <td>6</td>\n",
       "      <td>148.0</td>\n",
       "      <td>72.0</td>\n",
       "      <td>35.0</td>\n",
       "      <td>196.0</td>\n",
       "      <td>33.6</td>\n",
       "      <td>0.627</td>\n",
       "      <td>50</td>\n",
       "      <td>1</td>\n",
       "      <td>Obese</td>\n",
       "      <td>Prediabetes</td>\n",
       "      <td>Abnormal</td>\n",
       "      <td>29008.0</td>\n",
       "    </tr>\n",
       "    <tr>\n",
       "      <th>1</th>\n",
       "      <td>1</td>\n",
       "      <td>85.0</td>\n",
       "      <td>66.0</td>\n",
       "      <td>29.0</td>\n",
       "      <td>73.6</td>\n",
       "      <td>26.6</td>\n",
       "      <td>0.351</td>\n",
       "      <td>31</td>\n",
       "      <td>0</td>\n",
       "      <td>Overweight</td>\n",
       "      <td>Normal</td>\n",
       "      <td>None</td>\n",
       "      <td>6256.0</td>\n",
       "    </tr>\n",
       "    <tr>\n",
       "      <th>2</th>\n",
       "      <td>8</td>\n",
       "      <td>183.0</td>\n",
       "      <td>64.0</td>\n",
       "      <td>25.6</td>\n",
       "      <td>218.2</td>\n",
       "      <td>23.3</td>\n",
       "      <td>0.672</td>\n",
       "      <td>32</td>\n",
       "      <td>1</td>\n",
       "      <td>Healthy</td>\n",
       "      <td>Prediabetes</td>\n",
       "      <td>Abnormal</td>\n",
       "      <td>39930.6</td>\n",
       "    </tr>\n",
       "    <tr>\n",
       "      <th>3</th>\n",
       "      <td>1</td>\n",
       "      <td>89.0</td>\n",
       "      <td>66.0</td>\n",
       "      <td>23.0</td>\n",
       "      <td>94.0</td>\n",
       "      <td>28.1</td>\n",
       "      <td>0.167</td>\n",
       "      <td>21</td>\n",
       "      <td>0</td>\n",
       "      <td>Overweight</td>\n",
       "      <td>Normal</td>\n",
       "      <td>None</td>\n",
       "      <td>8366.0</td>\n",
       "    </tr>\n",
       "    <tr>\n",
       "      <th>4</th>\n",
       "      <td>0</td>\n",
       "      <td>137.0</td>\n",
       "      <td>40.0</td>\n",
       "      <td>35.0</td>\n",
       "      <td>168.0</td>\n",
       "      <td>43.1</td>\n",
       "      <td>2.288</td>\n",
       "      <td>33</td>\n",
       "      <td>1</td>\n",
       "      <td>Obese</td>\n",
       "      <td>Normal</td>\n",
       "      <td>Abnormal</td>\n",
       "      <td>23016.0</td>\n",
       "    </tr>\n",
       "  </tbody>\n",
       "</table>\n",
       "</div>"
      ],
      "text/plain": [
       "   PREGNANCIES  GLUCOSE  BLOODPRESSURE  SKINTHICKNESS  INSULIN   BMI  \\\n",
       "0            6    148.0           72.0           35.0    196.0  33.6   \n",
       "1            1     85.0           66.0           29.0     73.6  26.6   \n",
       "2            8    183.0           64.0           25.6    218.2  23.3   \n",
       "3            1     89.0           66.0           23.0     94.0  28.1   \n",
       "4            0    137.0           40.0           35.0    168.0  43.1   \n",
       "\n",
       "   DIABETESPEDIGREEFUNCTION  AGE  OUTCOME     NEW_BMI  NEW_GLUCOSE  \\\n",
       "0                     0.627   50        1       Obese  Prediabetes   \n",
       "1                     0.351   31        0  Overweight       Normal   \n",
       "2                     0.672   32        1     Healthy  Prediabetes   \n",
       "3                     0.167   21        0  Overweight       Normal   \n",
       "4                     2.288   33        1       Obese       Normal   \n",
       "\n",
       "  NEW_INSULIN_SCORE  NEW_GLUCOSE * INSULIN  \n",
       "0          Abnormal                29008.0  \n",
       "1              None                 6256.0  \n",
       "2          Abnormal                39930.6  \n",
       "3              None                 8366.0  \n",
       "4          Abnormal                23016.0  "
      ]
     },
     "execution_count": 81,
     "metadata": {},
     "output_type": "execute_result"
    }
   ],
   "source": [
    "diabetes_df.head()"
   ]
  },
  {
   "cell_type": "code",
   "execution_count": 82,
   "id": "e6317404-16e5-49e2-ab9c-56679a857b17",
   "metadata": {},
   "outputs": [
    {
     "data": {
      "text/plain": [
       "['Pregnancies',\n",
       " 'Glucose',\n",
       " 'BloodPressure',\n",
       " 'SkinThickness',\n",
       " 'Insulin',\n",
       " 'BMI',\n",
       " 'DiabetesPedigreeFunction',\n",
       " 'Age']"
      ]
     },
     "execution_count": 82,
     "metadata": {},
     "output_type": "execute_result"
    }
   ],
   "source": [
    "num_cols"
   ]
  },
  {
   "cell_type": "code",
   "execution_count": 83,
   "id": "c3a09666-13fb-487a-bbbf-754a4bd0dd74",
   "metadata": {},
   "outputs": [
    {
     "name": "stdout",
     "output_type": "stream",
     "text": [
      "Observations: 768\n",
      "Variables: 13\n",
      "cat_cols: 4\n",
      "num_cols: 9\n",
      "cat_but_car: 0\n",
      "num_but_cat: 3\n"
     ]
    }
   ],
   "source": [
    "cat_cols, num_cols, cat_but_car,  num_but_cat = grab_col_names(diabetes_df)"
   ]
  },
  {
   "cell_type": "code",
   "execution_count": 84,
   "id": "1111f30e-f807-404d-9c19-71c744224808",
   "metadata": {},
   "outputs": [
    {
     "data": {
      "text/plain": [
       "['PREGNANCIES',\n",
       " 'GLUCOSE',\n",
       " 'BLOODPRESSURE',\n",
       " 'SKINTHICKNESS',\n",
       " 'INSULIN',\n",
       " 'BMI',\n",
       " 'DIABETESPEDIGREEFUNCTION',\n",
       " 'AGE',\n",
       " 'NEW_GLUCOSE * INSULIN']"
      ]
     },
     "execution_count": 84,
     "metadata": {},
     "output_type": "execute_result"
    }
   ],
   "source": [
    "num_cols"
   ]
  },
  {
   "cell_type": "code",
   "execution_count": 85,
   "id": "69e6c65a-0e4e-4771-993a-ed200bff42bc",
   "metadata": {},
   "outputs": [
    {
     "data": {
      "text/plain": [
       "['NEW_INSULIN_SCORE', 'OUTCOME', 'NEW_BMI', 'NEW_GLUCOSE']"
      ]
     },
     "execution_count": 85,
     "metadata": {},
     "output_type": "execute_result"
    }
   ],
   "source": [
    "cat_cols"
   ]
  },
  {
   "cell_type": "code",
   "execution_count": 86,
   "id": "afef5da5-50f1-4227-8d2f-bdaa295b2698",
   "metadata": {},
   "outputs": [
    {
     "data": {
      "text/html": [
       "<div>\n",
       "<style scoped>\n",
       "    .dataframe tbody tr th:only-of-type {\n",
       "        vertical-align: middle;\n",
       "    }\n",
       "\n",
       "    .dataframe tbody tr th {\n",
       "        vertical-align: top;\n",
       "    }\n",
       "\n",
       "    .dataframe thead th {\n",
       "        text-align: right;\n",
       "    }\n",
       "</style>\n",
       "<table border=\"1\" class=\"dataframe\">\n",
       "  <thead>\n",
       "    <tr style=\"text-align: right;\">\n",
       "      <th></th>\n",
       "      <th>PREGNANCIES</th>\n",
       "      <th>GLUCOSE</th>\n",
       "      <th>BLOODPRESSURE</th>\n",
       "      <th>SKINTHICKNESS</th>\n",
       "      <th>INSULIN</th>\n",
       "      <th>BMI</th>\n",
       "      <th>DIABETESPEDIGREEFUNCTION</th>\n",
       "      <th>AGE</th>\n",
       "      <th>OUTCOME</th>\n",
       "      <th>NEW_BMI</th>\n",
       "      <th>NEW_GLUCOSE</th>\n",
       "      <th>NEW_INSULIN_SCORE</th>\n",
       "      <th>NEW_GLUCOSE * INSULIN</th>\n",
       "    </tr>\n",
       "  </thead>\n",
       "  <tbody>\n",
       "    <tr>\n",
       "      <th>0</th>\n",
       "      <td>6</td>\n",
       "      <td>148.0</td>\n",
       "      <td>72.0</td>\n",
       "      <td>35.0</td>\n",
       "      <td>196.0</td>\n",
       "      <td>33.6</td>\n",
       "      <td>0.627</td>\n",
       "      <td>50</td>\n",
       "      <td>1</td>\n",
       "      <td>Obese</td>\n",
       "      <td>Prediabetes</td>\n",
       "      <td>Abnormal</td>\n",
       "      <td>29008.0</td>\n",
       "    </tr>\n",
       "    <tr>\n",
       "      <th>1</th>\n",
       "      <td>1</td>\n",
       "      <td>85.0</td>\n",
       "      <td>66.0</td>\n",
       "      <td>29.0</td>\n",
       "      <td>73.6</td>\n",
       "      <td>26.6</td>\n",
       "      <td>0.351</td>\n",
       "      <td>31</td>\n",
       "      <td>0</td>\n",
       "      <td>Overweight</td>\n",
       "      <td>Normal</td>\n",
       "      <td>None</td>\n",
       "      <td>6256.0</td>\n",
       "    </tr>\n",
       "    <tr>\n",
       "      <th>2</th>\n",
       "      <td>8</td>\n",
       "      <td>183.0</td>\n",
       "      <td>64.0</td>\n",
       "      <td>25.6</td>\n",
       "      <td>218.2</td>\n",
       "      <td>23.3</td>\n",
       "      <td>0.672</td>\n",
       "      <td>32</td>\n",
       "      <td>1</td>\n",
       "      <td>Healthy</td>\n",
       "      <td>Prediabetes</td>\n",
       "      <td>Abnormal</td>\n",
       "      <td>39930.6</td>\n",
       "    </tr>\n",
       "    <tr>\n",
       "      <th>3</th>\n",
       "      <td>1</td>\n",
       "      <td>89.0</td>\n",
       "      <td>66.0</td>\n",
       "      <td>23.0</td>\n",
       "      <td>94.0</td>\n",
       "      <td>28.1</td>\n",
       "      <td>0.167</td>\n",
       "      <td>21</td>\n",
       "      <td>0</td>\n",
       "      <td>Overweight</td>\n",
       "      <td>Normal</td>\n",
       "      <td>None</td>\n",
       "      <td>8366.0</td>\n",
       "    </tr>\n",
       "    <tr>\n",
       "      <th>4</th>\n",
       "      <td>0</td>\n",
       "      <td>137.0</td>\n",
       "      <td>40.0</td>\n",
       "      <td>35.0</td>\n",
       "      <td>168.0</td>\n",
       "      <td>43.1</td>\n",
       "      <td>2.288</td>\n",
       "      <td>33</td>\n",
       "      <td>1</td>\n",
       "      <td>Obese</td>\n",
       "      <td>Normal</td>\n",
       "      <td>Abnormal</td>\n",
       "      <td>23016.0</td>\n",
       "    </tr>\n",
       "  </tbody>\n",
       "</table>\n",
       "</div>"
      ],
      "text/plain": [
       "   PREGNANCIES  GLUCOSE  BLOODPRESSURE  SKINTHICKNESS  INSULIN   BMI  \\\n",
       "0            6    148.0           72.0           35.0    196.0  33.6   \n",
       "1            1     85.0           66.0           29.0     73.6  26.6   \n",
       "2            8    183.0           64.0           25.6    218.2  23.3   \n",
       "3            1     89.0           66.0           23.0     94.0  28.1   \n",
       "4            0    137.0           40.0           35.0    168.0  43.1   \n",
       "\n",
       "   DIABETESPEDIGREEFUNCTION  AGE  OUTCOME     NEW_BMI  NEW_GLUCOSE  \\\n",
       "0                     0.627   50        1       Obese  Prediabetes   \n",
       "1                     0.351   31        0  Overweight       Normal   \n",
       "2                     0.672   32        1     Healthy  Prediabetes   \n",
       "3                     0.167   21        0  Overweight       Normal   \n",
       "4                     2.288   33        1       Obese       Normal   \n",
       "\n",
       "  NEW_INSULIN_SCORE  NEW_GLUCOSE * INSULIN  \n",
       "0          Abnormal                29008.0  \n",
       "1              None                 6256.0  \n",
       "2          Abnormal                39930.6  \n",
       "3              None                 8366.0  \n",
       "4          Abnormal                23016.0  "
      ]
     },
     "execution_count": 86,
     "metadata": {},
     "output_type": "execute_result"
    }
   ],
   "source": [
    "diabetes_df.head()"
   ]
  },
  {
   "cell_type": "markdown",
   "id": "d0019922-e7e5-4dbf-a199-8ab474642e3e",
   "metadata": {},
   "source": [
    "#### Feature Encoding"
   ]
  },
  {
   "cell_type": "code",
   "execution_count": 87,
   "id": "99c55506-391d-42c3-9239-f1d6372d87cb",
   "metadata": {},
   "outputs": [],
   "source": [
    "cat_cols = [col for col in cat_cols if col not in [\"OUTCOME\"]]"
   ]
  },
  {
   "cell_type": "code",
   "execution_count": 88,
   "id": "7ee13e5e-38c0-4753-b36a-7e3bbf8e1698",
   "metadata": {},
   "outputs": [
    {
     "data": {
      "text/plain": [
       "['NEW_INSULIN_SCORE', 'NEW_BMI', 'NEW_GLUCOSE']"
      ]
     },
     "execution_count": 88,
     "metadata": {},
     "output_type": "execute_result"
    }
   ],
   "source": [
    "cat_cols"
   ]
  },
  {
   "cell_type": "code",
   "execution_count": 89,
   "id": "5be8fe74-0b92-4f9b-a594-50dd8962034e",
   "metadata": {},
   "outputs": [],
   "source": [
    "diabetes_df['NEW_GLUCOSE'] = diabetes_df['NEW_GLUCOSE'].apply(\n",
    "    lambda x: 1 if x == 'Normal' else (0 if x == 'Prediabetes' else None))\n",
    "diabetes_df['NEW_INSULIN_SCORE'] = diabetes_df['NEW_INSULIN_SCORE'].apply(\n",
    "    lambda x: 1 if x == 'Abnormal' else (0 if x == None else None))"
   ]
  },
  {
   "cell_type": "code",
   "execution_count": 90,
   "id": "e23c2b0f-6ffc-4f9f-a09e-f015e357f7a2",
   "metadata": {},
   "outputs": [
    {
     "data": {
      "text/plain": [
       "PREGNANCIES                    int64\n",
       "GLUCOSE                      float64\n",
       "BLOODPRESSURE                float64\n",
       "SKINTHICKNESS                float64\n",
       "INSULIN                      float64\n",
       "BMI                          float64\n",
       "DIABETESPEDIGREEFUNCTION     float64\n",
       "AGE                            int64\n",
       "OUTCOME                        int64\n",
       "NEW_BMI                     category\n",
       "NEW_GLUCOSE                  float64\n",
       "NEW_INSULIN_SCORE              int64\n",
       "NEW_GLUCOSE * INSULIN        float64\n",
       "dtype: object"
      ]
     },
     "execution_count": 90,
     "metadata": {},
     "output_type": "execute_result"
    }
   ],
   "source": [
    "diabetes_df.dtypes"
   ]
  },
  {
   "cell_type": "code",
   "execution_count": 91,
   "id": "0ec9465c-429f-47ee-acc7-b9091b80263b",
   "metadata": {},
   "outputs": [],
   "source": [
    "#Extract categorical columns from the dataframe\n",
    "#Here we extract the columns with category datatype as they are the categorical columns\n",
    "\n",
    "cat_cols = diabetes_df.select_dtypes(include=['category']).columns.tolist()\n",
    "encoder = OneHotEncoder(sparse_output=False)"
   ]
  },
  {
   "cell_type": "code",
   "execution_count": 93,
   "id": "87e690a1-fb12-4f3b-8e58-63ce3770f4f3",
   "metadata": {},
   "outputs": [],
   "source": [
    "# Apply one-hot encoding to the categorical columns\n",
    "one_hot_encoded = encoder.fit_transform(diabetes_df[cat_cols])\n",
    "\n",
    "#Create a DataFrame with the one-hot encoded columns\n",
    "#We use get_feature_names_out() to get the column names for the encoded data\n",
    "one_hot_df = pd.DataFrame(one_hot_encoded, columns=encoder.get_feature_names_out(cat_cols))\n",
    "\n",
    "# Concatenate the one-hot encoded dataframe with the original dataframe\n",
    "df_encoded = pd.concat([diabetes_df, one_hot_df], axis=1)\n",
    "\n",
    "# Drop the original categorical columns\n",
    "df_encoded = df_encoded.drop(cat_cols, axis=1)"
   ]
  },
  {
   "cell_type": "code",
   "execution_count": 94,
   "id": "f4b1c0cd-470f-4d35-88d2-acacf1372f80",
   "metadata": {},
   "outputs": [],
   "source": [
    "diabetes_df = df_encoded"
   ]
  },
  {
   "cell_type": "code",
   "execution_count": 95,
   "id": "8b465b06-db2d-44ee-8d1b-138ca1cfbb81",
   "metadata": {},
   "outputs": [
    {
     "data": {
      "text/plain": [
       "['NEW_BMI']"
      ]
     },
     "execution_count": 95,
     "metadata": {},
     "output_type": "execute_result"
    }
   ],
   "source": [
    "cat_cols"
   ]
  },
  {
   "cell_type": "code",
   "execution_count": 96,
   "id": "6d18dd0d-7cb1-4bee-932b-e3496489ce25",
   "metadata": {},
   "outputs": [
    {
     "data": {
      "text/html": [
       "<div>\n",
       "<style scoped>\n",
       "    .dataframe tbody tr th:only-of-type {\n",
       "        vertical-align: middle;\n",
       "    }\n",
       "\n",
       "    .dataframe tbody tr th {\n",
       "        vertical-align: top;\n",
       "    }\n",
       "\n",
       "    .dataframe thead th {\n",
       "        text-align: right;\n",
       "    }\n",
       "</style>\n",
       "<table border=\"1\" class=\"dataframe\">\n",
       "  <thead>\n",
       "    <tr style=\"text-align: right;\">\n",
       "      <th></th>\n",
       "      <th>PREGNANCIES</th>\n",
       "      <th>GLUCOSE</th>\n",
       "      <th>BLOODPRESSURE</th>\n",
       "      <th>SKINTHICKNESS</th>\n",
       "      <th>INSULIN</th>\n",
       "      <th>BMI</th>\n",
       "      <th>DIABETESPEDIGREEFUNCTION</th>\n",
       "      <th>AGE</th>\n",
       "      <th>OUTCOME</th>\n",
       "      <th>NEW_GLUCOSE</th>\n",
       "      <th>NEW_INSULIN_SCORE</th>\n",
       "      <th>NEW_GLUCOSE * INSULIN</th>\n",
       "      <th>NEW_BMI_Healthy</th>\n",
       "      <th>NEW_BMI_Obese</th>\n",
       "      <th>NEW_BMI_Overweight</th>\n",
       "      <th>NEW_BMI_Underweight</th>\n",
       "    </tr>\n",
       "  </thead>\n",
       "  <tbody>\n",
       "    <tr>\n",
       "      <th>0</th>\n",
       "      <td>6</td>\n",
       "      <td>148.0</td>\n",
       "      <td>72.0</td>\n",
       "      <td>35.0</td>\n",
       "      <td>196.0</td>\n",
       "      <td>33.6</td>\n",
       "      <td>0.627</td>\n",
       "      <td>50</td>\n",
       "      <td>1</td>\n",
       "      <td>0.0</td>\n",
       "      <td>1</td>\n",
       "      <td>29008.0</td>\n",
       "      <td>0.0</td>\n",
       "      <td>1.0</td>\n",
       "      <td>0.0</td>\n",
       "      <td>0.0</td>\n",
       "    </tr>\n",
       "    <tr>\n",
       "      <th>1</th>\n",
       "      <td>1</td>\n",
       "      <td>85.0</td>\n",
       "      <td>66.0</td>\n",
       "      <td>29.0</td>\n",
       "      <td>73.6</td>\n",
       "      <td>26.6</td>\n",
       "      <td>0.351</td>\n",
       "      <td>31</td>\n",
       "      <td>0</td>\n",
       "      <td>1.0</td>\n",
       "      <td>0</td>\n",
       "      <td>6256.0</td>\n",
       "      <td>0.0</td>\n",
       "      <td>0.0</td>\n",
       "      <td>1.0</td>\n",
       "      <td>0.0</td>\n",
       "    </tr>\n",
       "    <tr>\n",
       "      <th>2</th>\n",
       "      <td>8</td>\n",
       "      <td>183.0</td>\n",
       "      <td>64.0</td>\n",
       "      <td>25.6</td>\n",
       "      <td>218.2</td>\n",
       "      <td>23.3</td>\n",
       "      <td>0.672</td>\n",
       "      <td>32</td>\n",
       "      <td>1</td>\n",
       "      <td>0.0</td>\n",
       "      <td>1</td>\n",
       "      <td>39930.6</td>\n",
       "      <td>1.0</td>\n",
       "      <td>0.0</td>\n",
       "      <td>0.0</td>\n",
       "      <td>0.0</td>\n",
       "    </tr>\n",
       "    <tr>\n",
       "      <th>3</th>\n",
       "      <td>1</td>\n",
       "      <td>89.0</td>\n",
       "      <td>66.0</td>\n",
       "      <td>23.0</td>\n",
       "      <td>94.0</td>\n",
       "      <td>28.1</td>\n",
       "      <td>0.167</td>\n",
       "      <td>21</td>\n",
       "      <td>0</td>\n",
       "      <td>1.0</td>\n",
       "      <td>0</td>\n",
       "      <td>8366.0</td>\n",
       "      <td>0.0</td>\n",
       "      <td>0.0</td>\n",
       "      <td>1.0</td>\n",
       "      <td>0.0</td>\n",
       "    </tr>\n",
       "    <tr>\n",
       "      <th>4</th>\n",
       "      <td>0</td>\n",
       "      <td>137.0</td>\n",
       "      <td>40.0</td>\n",
       "      <td>35.0</td>\n",
       "      <td>168.0</td>\n",
       "      <td>43.1</td>\n",
       "      <td>2.288</td>\n",
       "      <td>33</td>\n",
       "      <td>1</td>\n",
       "      <td>1.0</td>\n",
       "      <td>1</td>\n",
       "      <td>23016.0</td>\n",
       "      <td>0.0</td>\n",
       "      <td>1.0</td>\n",
       "      <td>0.0</td>\n",
       "      <td>0.0</td>\n",
       "    </tr>\n",
       "  </tbody>\n",
       "</table>\n",
       "</div>"
      ],
      "text/plain": [
       "   PREGNANCIES  GLUCOSE  BLOODPRESSURE  SKINTHICKNESS  INSULIN   BMI  \\\n",
       "0            6    148.0           72.0           35.0    196.0  33.6   \n",
       "1            1     85.0           66.0           29.0     73.6  26.6   \n",
       "2            8    183.0           64.0           25.6    218.2  23.3   \n",
       "3            1     89.0           66.0           23.0     94.0  28.1   \n",
       "4            0    137.0           40.0           35.0    168.0  43.1   \n",
       "\n",
       "   DIABETESPEDIGREEFUNCTION  AGE  OUTCOME  NEW_GLUCOSE  NEW_INSULIN_SCORE  \\\n",
       "0                     0.627   50        1          0.0                  1   \n",
       "1                     0.351   31        0          1.0                  0   \n",
       "2                     0.672   32        1          0.0                  1   \n",
       "3                     0.167   21        0          1.0                  0   \n",
       "4                     2.288   33        1          1.0                  1   \n",
       "\n",
       "   NEW_GLUCOSE * INSULIN  NEW_BMI_Healthy  NEW_BMI_Obese  NEW_BMI_Overweight  \\\n",
       "0                29008.0              0.0            1.0                 0.0   \n",
       "1                 6256.0              0.0            0.0                 1.0   \n",
       "2                39930.6              1.0            0.0                 0.0   \n",
       "3                 8366.0              0.0            0.0                 1.0   \n",
       "4                23016.0              0.0            1.0                 0.0   \n",
       "\n",
       "   NEW_BMI_Underweight  \n",
       "0                  0.0  \n",
       "1                  0.0  \n",
       "2                  0.0  \n",
       "3                  0.0  \n",
       "4                  0.0  "
      ]
     },
     "execution_count": 96,
     "metadata": {},
     "output_type": "execute_result"
    }
   ],
   "source": [
    "diabetes_df.head()"
   ]
  },
  {
   "cell_type": "markdown",
   "id": "49dfc9be-5619-4ce2-97c4-374511ae8272",
   "metadata": {},
   "source": [
    "#### Feature Standardizar"
   ]
  },
  {
   "cell_type": "code",
   "execution_count": 97,
   "id": "f043de33-26ee-4996-9a66-47eacaf44b17",
   "metadata": {},
   "outputs": [],
   "source": [
    "scaler = RobustScaler()"
   ]
  },
  {
   "cell_type": "code",
   "execution_count": 98,
   "id": "4ce2822c-a066-4767-8205-854c6f247b35",
   "metadata": {},
   "outputs": [],
   "source": [
    "diabetes_df[num_cols] = scaler.fit_transform(diabetes_df[num_cols])"
   ]
  },
  {
   "cell_type": "code",
   "execution_count": 99,
   "id": "b8f2f86b-47dc-4833-9529-c8f8e3b95d8e",
   "metadata": {},
   "outputs": [
    {
     "data": {
      "text/plain": [
       "['NEW_BMI']"
      ]
     },
     "execution_count": 99,
     "metadata": {},
     "output_type": "execute_result"
    }
   ],
   "source": [
    "cat_cols"
   ]
  },
  {
   "cell_type": "code",
   "execution_count": 100,
   "id": "ad0b47dd-d5b2-4a6b-b14c-0a2b81333a20",
   "metadata": {},
   "outputs": [
    {
     "data": {
      "text/html": [
       "<div>\n",
       "<style scoped>\n",
       "    .dataframe tbody tr th:only-of-type {\n",
       "        vertical-align: middle;\n",
       "    }\n",
       "\n",
       "    .dataframe tbody tr th {\n",
       "        vertical-align: top;\n",
       "    }\n",
       "\n",
       "    .dataframe thead th {\n",
       "        text-align: right;\n",
       "    }\n",
       "</style>\n",
       "<table border=\"1\" class=\"dataframe\">\n",
       "  <thead>\n",
       "    <tr style=\"text-align: right;\">\n",
       "      <th></th>\n",
       "      <th>PREGNANCIES</th>\n",
       "      <th>GLUCOSE</th>\n",
       "      <th>BLOODPRESSURE</th>\n",
       "      <th>SKINTHICKNESS</th>\n",
       "      <th>INSULIN</th>\n",
       "      <th>BMI</th>\n",
       "      <th>DIABETESPEDIGREEFUNCTION</th>\n",
       "      <th>AGE</th>\n",
       "      <th>OUTCOME</th>\n",
       "      <th>NEW_GLUCOSE</th>\n",
       "      <th>NEW_INSULIN_SCORE</th>\n",
       "      <th>NEW_GLUCOSE * INSULIN</th>\n",
       "      <th>NEW_BMI_Healthy</th>\n",
       "      <th>NEW_BMI_Obese</th>\n",
       "      <th>NEW_BMI_Overweight</th>\n",
       "      <th>NEW_BMI_Underweight</th>\n",
       "    </tr>\n",
       "  </thead>\n",
       "  <tbody>\n",
       "    <tr>\n",
       "      <th>0</th>\n",
       "      <td>0.6</td>\n",
       "      <td>0.765432</td>\n",
       "      <td>0.000</td>\n",
       "      <td>0.523077</td>\n",
       "      <td>0.680299</td>\n",
       "      <td>0.159341</td>\n",
       "      <td>0.665359</td>\n",
       "      <td>1.235294</td>\n",
       "      <td>1</td>\n",
       "      <td>0.0</td>\n",
       "      <td>1</td>\n",
       "      <td>0.846881</td>\n",
       "      <td>0.0</td>\n",
       "      <td>1.0</td>\n",
       "      <td>0.0</td>\n",
       "      <td>0.0</td>\n",
       "    </tr>\n",
       "    <tr>\n",
       "      <th>1</th>\n",
       "      <td>-0.4</td>\n",
       "      <td>-0.790123</td>\n",
       "      <td>-0.375</td>\n",
       "      <td>0.061538</td>\n",
       "      <td>-0.540648</td>\n",
       "      <td>-0.609890</td>\n",
       "      <td>-0.056209</td>\n",
       "      <td>0.117647</td>\n",
       "      <td>0</td>\n",
       "      <td>1.0</td>\n",
       "      <td>0</td>\n",
       "      <td>-0.534959</td>\n",
       "      <td>0.0</td>\n",
       "      <td>0.0</td>\n",
       "      <td>1.0</td>\n",
       "      <td>0.0</td>\n",
       "    </tr>\n",
       "    <tr>\n",
       "      <th>2</th>\n",
       "      <td>1.0</td>\n",
       "      <td>1.629630</td>\n",
       "      <td>-0.500</td>\n",
       "      <td>-0.200000</td>\n",
       "      <td>0.901746</td>\n",
       "      <td>-0.972527</td>\n",
       "      <td>0.783007</td>\n",
       "      <td>0.176471</td>\n",
       "      <td>1</td>\n",
       "      <td>0.0</td>\n",
       "      <td>1</td>\n",
       "      <td>1.510264</td>\n",
       "      <td>1.0</td>\n",
       "      <td>0.0</td>\n",
       "      <td>0.0</td>\n",
       "      <td>0.0</td>\n",
       "    </tr>\n",
       "    <tr>\n",
       "      <th>3</th>\n",
       "      <td>-0.4</td>\n",
       "      <td>-0.691358</td>\n",
       "      <td>-0.375</td>\n",
       "      <td>-0.400000</td>\n",
       "      <td>-0.337157</td>\n",
       "      <td>-0.445055</td>\n",
       "      <td>-0.537255</td>\n",
       "      <td>-0.470588</td>\n",
       "      <td>0</td>\n",
       "      <td>1.0</td>\n",
       "      <td>0</td>\n",
       "      <td>-0.406808</td>\n",
       "      <td>0.0</td>\n",
       "      <td>0.0</td>\n",
       "      <td>1.0</td>\n",
       "      <td>0.0</td>\n",
       "    </tr>\n",
       "    <tr>\n",
       "      <th>4</th>\n",
       "      <td>-0.6</td>\n",
       "      <td>0.493827</td>\n",
       "      <td>-2.000</td>\n",
       "      <td>0.523077</td>\n",
       "      <td>0.400998</td>\n",
       "      <td>1.203297</td>\n",
       "      <td>5.007843</td>\n",
       "      <td>0.235294</td>\n",
       "      <td>1</td>\n",
       "      <td>1.0</td>\n",
       "      <td>1</td>\n",
       "      <td>0.482958</td>\n",
       "      <td>0.0</td>\n",
       "      <td>1.0</td>\n",
       "      <td>0.0</td>\n",
       "      <td>0.0</td>\n",
       "    </tr>\n",
       "  </tbody>\n",
       "</table>\n",
       "</div>"
      ],
      "text/plain": [
       "   PREGNANCIES   GLUCOSE  BLOODPRESSURE  SKINTHICKNESS   INSULIN       BMI  \\\n",
       "0          0.6  0.765432          0.000       0.523077  0.680299  0.159341   \n",
       "1         -0.4 -0.790123         -0.375       0.061538 -0.540648 -0.609890   \n",
       "2          1.0  1.629630         -0.500      -0.200000  0.901746 -0.972527   \n",
       "3         -0.4 -0.691358         -0.375      -0.400000 -0.337157 -0.445055   \n",
       "4         -0.6  0.493827         -2.000       0.523077  0.400998  1.203297   \n",
       "\n",
       "   DIABETESPEDIGREEFUNCTION       AGE  OUTCOME  NEW_GLUCOSE  \\\n",
       "0                  0.665359  1.235294        1          0.0   \n",
       "1                 -0.056209  0.117647        0          1.0   \n",
       "2                  0.783007  0.176471        1          0.0   \n",
       "3                 -0.537255 -0.470588        0          1.0   \n",
       "4                  5.007843  0.235294        1          1.0   \n",
       "\n",
       "   NEW_INSULIN_SCORE  NEW_GLUCOSE * INSULIN  NEW_BMI_Healthy  NEW_BMI_Obese  \\\n",
       "0                  1               0.846881              0.0            1.0   \n",
       "1                  0              -0.534959              0.0            0.0   \n",
       "2                  1               1.510264              1.0            0.0   \n",
       "3                  0              -0.406808              0.0            0.0   \n",
       "4                  1               0.482958              0.0            1.0   \n",
       "\n",
       "   NEW_BMI_Overweight  NEW_BMI_Underweight  \n",
       "0                 0.0                  0.0  \n",
       "1                 1.0                  0.0  \n",
       "2                 0.0                  0.0  \n",
       "3                 1.0                  0.0  \n",
       "4                 0.0                  0.0  "
      ]
     },
     "execution_count": 100,
     "metadata": {},
     "output_type": "execute_result"
    }
   ],
   "source": [
    "diabetes_df.head()"
   ]
  },
  {
   "cell_type": "code",
   "execution_count": 101,
   "id": "c9604ae3-be3c-4713-8be1-7753891e176f",
   "metadata": {},
   "outputs": [
    {
     "data": {
      "text/plain": [
       "(768, 16)"
      ]
     },
     "execution_count": 101,
     "metadata": {},
     "output_type": "execute_result"
    }
   ],
   "source": [
    "diabetes_df.shape"
   ]
  },
  {
   "cell_type": "markdown",
   "id": "68e34bfd-5c3d-491e-8a9e-0d4daf78bbaa",
   "metadata": {},
   "source": [
    "### 3.4 Data Spliting"
   ]
  },
  {
   "cell_type": "code",
   "execution_count": 102,
   "id": "82e4be5a-7d05-441f-966f-48b987513bd2",
   "metadata": {},
   "outputs": [],
   "source": [
    "# Creating the Dependent Variable.\n",
    "\n",
    "y = diabetes_df[\"OUTCOME\"]\n",
    "\n",
    "# Creating Independent Variables.\n",
    "\n",
    "X = diabetes_df.drop(\"OUTCOME\", axis=1)\n",
    "\n",
    "# Splitting the Data into Training and Test Sets\n",
    "\n",
    "X_train, X_test, y_train, y_test = train_test_split(X, y, test_size=0.30, random_state=17)\n"
   ]
  },
  {
   "cell_type": "code",
   "execution_count": 103,
   "id": "9d818073-266f-4ae7-b433-1b1f755dcd8e",
   "metadata": {},
   "outputs": [
    {
     "data": {
      "text/html": [
       "<div>\n",
       "<style scoped>\n",
       "    .dataframe tbody tr th:only-of-type {\n",
       "        vertical-align: middle;\n",
       "    }\n",
       "\n",
       "    .dataframe tbody tr th {\n",
       "        vertical-align: top;\n",
       "    }\n",
       "\n",
       "    .dataframe thead th {\n",
       "        text-align: right;\n",
       "    }\n",
       "</style>\n",
       "<table border=\"1\" class=\"dataframe\">\n",
       "  <thead>\n",
       "    <tr style=\"text-align: right;\">\n",
       "      <th></th>\n",
       "      <th>PREGNANCIES</th>\n",
       "      <th>GLUCOSE</th>\n",
       "      <th>BLOODPRESSURE</th>\n",
       "      <th>SKINTHICKNESS</th>\n",
       "      <th>INSULIN</th>\n",
       "      <th>BMI</th>\n",
       "      <th>DIABETESPEDIGREEFUNCTION</th>\n",
       "      <th>AGE</th>\n",
       "      <th>NEW_GLUCOSE</th>\n",
       "      <th>NEW_INSULIN_SCORE</th>\n",
       "      <th>NEW_GLUCOSE * INSULIN</th>\n",
       "      <th>NEW_BMI_Healthy</th>\n",
       "      <th>NEW_BMI_Obese</th>\n",
       "      <th>NEW_BMI_Overweight</th>\n",
       "      <th>NEW_BMI_Underweight</th>\n",
       "    </tr>\n",
       "  </thead>\n",
       "  <tbody>\n",
       "    <tr>\n",
       "      <th>600</th>\n",
       "      <td>-0.4</td>\n",
       "      <td>-0.222222</td>\n",
       "      <td>1.000</td>\n",
       "      <td>-0.707692</td>\n",
       "      <td>-0.235411</td>\n",
       "      <td>-0.554945</td>\n",
       "      <td>0.071895</td>\n",
       "      <td>-0.294118</td>\n",
       "      <td>1.0</td>\n",
       "      <td>0</td>\n",
       "      <td>-0.231430</td>\n",
       "      <td>0.0</td>\n",
       "      <td>0.0</td>\n",
       "      <td>1.0</td>\n",
       "      <td>0.0</td>\n",
       "    </tr>\n",
       "    <tr>\n",
       "      <th>248</th>\n",
       "      <td>1.2</td>\n",
       "      <td>0.172840</td>\n",
       "      <td>-0.125</td>\n",
       "      <td>0.369231</td>\n",
       "      <td>2.735162</td>\n",
       "      <td>0.357143</td>\n",
       "      <td>-0.236601</td>\n",
       "      <td>0.294118</td>\n",
       "      <td>1.0</td>\n",
       "      <td>1</td>\n",
       "      <td>2.112596</td>\n",
       "      <td>0.0</td>\n",
       "      <td>1.0</td>\n",
       "      <td>0.0</td>\n",
       "      <td>0.0</td>\n",
       "    </tr>\n",
       "    <tr>\n",
       "      <th>582</th>\n",
       "      <td>1.8</td>\n",
       "      <td>0.098765</td>\n",
       "      <td>0.375</td>\n",
       "      <td>-0.861538</td>\n",
       "      <td>-0.235411</td>\n",
       "      <td>-0.620879</td>\n",
       "      <td>-0.296732</td>\n",
       "      <td>1.941176</td>\n",
       "      <td>1.0</td>\n",
       "      <td>0</td>\n",
       "      <td>-0.149159</td>\n",
       "      <td>0.0</td>\n",
       "      <td>0.0</td>\n",
       "      <td>1.0</td>\n",
       "      <td>0.0</td>\n",
       "    </tr>\n",
       "    <tr>\n",
       "      <th>274</th>\n",
       "      <td>2.0</td>\n",
       "      <td>-0.271605</td>\n",
       "      <td>-0.125</td>\n",
       "      <td>0.184615</td>\n",
       "      <td>-0.125686</td>\n",
       "      <td>0.225275</td>\n",
       "      <td>-0.317647</td>\n",
       "      <td>1.352941</td>\n",
       "      <td>1.0</td>\n",
       "      <td>0</td>\n",
       "      <td>-0.173271</td>\n",
       "      <td>0.0</td>\n",
       "      <td>1.0</td>\n",
       "      <td>0.0</td>\n",
       "      <td>0.0</td>\n",
       "    </tr>\n",
       "    <tr>\n",
       "      <th>518</th>\n",
       "      <td>2.0</td>\n",
       "      <td>-1.012346</td>\n",
       "      <td>-0.750</td>\n",
       "      <td>-0.138462</td>\n",
       "      <td>-0.672319</td>\n",
       "      <td>0.071429</td>\n",
       "      <td>-0.503268</td>\n",
       "      <td>0.705882</td>\n",
       "      <td>1.0</td>\n",
       "      <td>0</td>\n",
       "      <td>-0.636119</td>\n",
       "      <td>0.0</td>\n",
       "      <td>1.0</td>\n",
       "      <td>0.0</td>\n",
       "      <td>0.0</td>\n",
       "    </tr>\n",
       "    <tr>\n",
       "      <th>...</th>\n",
       "      <td>...</td>\n",
       "      <td>...</td>\n",
       "      <td>...</td>\n",
       "      <td>...</td>\n",
       "      <td>...</td>\n",
       "      <td>...</td>\n",
       "      <td>...</td>\n",
       "      <td>...</td>\n",
       "      <td>...</td>\n",
       "      <td>...</td>\n",
       "      <td>...</td>\n",
       "      <td>...</td>\n",
       "      <td>...</td>\n",
       "      <td>...</td>\n",
       "      <td>...</td>\n",
       "    </tr>\n",
       "    <tr>\n",
       "      <th>406</th>\n",
       "      <td>0.2</td>\n",
       "      <td>-0.049383</td>\n",
       "      <td>0.000</td>\n",
       "      <td>-0.400000</td>\n",
       "      <td>-0.496758</td>\n",
       "      <td>-0.357143</td>\n",
       "      <td>0.009150</td>\n",
       "      <td>1.000000</td>\n",
       "      <td>1.0</td>\n",
       "      <td>0</td>\n",
       "      <td>-0.370125</td>\n",
       "      <td>0.0</td>\n",
       "      <td>0.0</td>\n",
       "      <td>1.0</td>\n",
       "      <td>0.0</td>\n",
       "    </tr>\n",
       "    <tr>\n",
       "      <th>390</th>\n",
       "      <td>-0.4</td>\n",
       "      <td>-0.419753</td>\n",
       "      <td>-0.375</td>\n",
       "      <td>0.061538</td>\n",
       "      <td>0.680299</td>\n",
       "      <td>-0.016484</td>\n",
       "      <td>0.186928</td>\n",
       "      <td>0.764706</td>\n",
       "      <td>1.0</td>\n",
       "      <td>1</td>\n",
       "      <td>0.275487</td>\n",
       "      <td>0.0</td>\n",
       "      <td>1.0</td>\n",
       "      <td>0.0</td>\n",
       "      <td>0.0</td>\n",
       "    </tr>\n",
       "    <tr>\n",
       "      <th>143</th>\n",
       "      <td>1.4</td>\n",
       "      <td>-0.222222</td>\n",
       "      <td>-0.375</td>\n",
       "      <td>0.230769</td>\n",
       "      <td>-0.227431</td>\n",
       "      <td>0.027473</td>\n",
       "      <td>-0.262745</td>\n",
       "      <td>0.764706</td>\n",
       "      <td>1.0</td>\n",
       "      <td>0</td>\n",
       "      <td>-0.226183</td>\n",
       "      <td>0.0</td>\n",
       "      <td>1.0</td>\n",
       "      <td>0.0</td>\n",
       "      <td>0.0</td>\n",
       "    </tr>\n",
       "    <tr>\n",
       "      <th>241</th>\n",
       "      <td>0.2</td>\n",
       "      <td>-0.641975</td>\n",
       "      <td>-0.125</td>\n",
       "      <td>0.292308</td>\n",
       "      <td>-0.397007</td>\n",
       "      <td>0.104396</td>\n",
       "      <td>0.192157</td>\n",
       "      <td>-0.411765</td>\n",
       "      <td>1.0</td>\n",
       "      <td>0</td>\n",
       "      <td>-0.428551</td>\n",
       "      <td>0.0</td>\n",
       "      <td>1.0</td>\n",
       "      <td>0.0</td>\n",
       "      <td>0.0</td>\n",
       "    </tr>\n",
       "    <tr>\n",
       "      <th>623</th>\n",
       "      <td>-0.6</td>\n",
       "      <td>-0.567901</td>\n",
       "      <td>-0.125</td>\n",
       "      <td>-0.092308</td>\n",
       "      <td>-0.127681</td>\n",
       "      <td>1.247253</td>\n",
       "      <td>-0.066667</td>\n",
       "      <td>-0.470588</td>\n",
       "      <td>1.0</td>\n",
       "      <td>0</td>\n",
       "      <td>-0.258372</td>\n",
       "      <td>0.0</td>\n",
       "      <td>1.0</td>\n",
       "      <td>0.0</td>\n",
       "      <td>0.0</td>\n",
       "    </tr>\n",
       "  </tbody>\n",
       "</table>\n",
       "<p>537 rows × 15 columns</p>\n",
       "</div>"
      ],
      "text/plain": [
       "     PREGNANCIES   GLUCOSE  BLOODPRESSURE  SKINTHICKNESS   INSULIN       BMI  \\\n",
       "600         -0.4 -0.222222          1.000      -0.707692 -0.235411 -0.554945   \n",
       "248          1.2  0.172840         -0.125       0.369231  2.735162  0.357143   \n",
       "582          1.8  0.098765          0.375      -0.861538 -0.235411 -0.620879   \n",
       "274          2.0 -0.271605         -0.125       0.184615 -0.125686  0.225275   \n",
       "518          2.0 -1.012346         -0.750      -0.138462 -0.672319  0.071429   \n",
       "..           ...       ...            ...            ...       ...       ...   \n",
       "406          0.2 -0.049383          0.000      -0.400000 -0.496758 -0.357143   \n",
       "390         -0.4 -0.419753         -0.375       0.061538  0.680299 -0.016484   \n",
       "143          1.4 -0.222222         -0.375       0.230769 -0.227431  0.027473   \n",
       "241          0.2 -0.641975         -0.125       0.292308 -0.397007  0.104396   \n",
       "623         -0.6 -0.567901         -0.125      -0.092308 -0.127681  1.247253   \n",
       "\n",
       "     DIABETESPEDIGREEFUNCTION       AGE  NEW_GLUCOSE  NEW_INSULIN_SCORE  \\\n",
       "600                  0.071895 -0.294118          1.0                  0   \n",
       "248                 -0.236601  0.294118          1.0                  1   \n",
       "582                 -0.296732  1.941176          1.0                  0   \n",
       "274                 -0.317647  1.352941          1.0                  0   \n",
       "518                 -0.503268  0.705882          1.0                  0   \n",
       "..                        ...       ...          ...                ...   \n",
       "406                  0.009150  1.000000          1.0                  0   \n",
       "390                  0.186928  0.764706          1.0                  1   \n",
       "143                 -0.262745  0.764706          1.0                  0   \n",
       "241                  0.192157 -0.411765          1.0                  0   \n",
       "623                 -0.066667 -0.470588          1.0                  0   \n",
       "\n",
       "     NEW_GLUCOSE * INSULIN  NEW_BMI_Healthy  NEW_BMI_Obese  \\\n",
       "600              -0.231430              0.0            0.0   \n",
       "248               2.112596              0.0            1.0   \n",
       "582              -0.149159              0.0            0.0   \n",
       "274              -0.173271              0.0            1.0   \n",
       "518              -0.636119              0.0            1.0   \n",
       "..                     ...              ...            ...   \n",
       "406              -0.370125              0.0            0.0   \n",
       "390               0.275487              0.0            1.0   \n",
       "143              -0.226183              0.0            1.0   \n",
       "241              -0.428551              0.0            1.0   \n",
       "623              -0.258372              0.0            1.0   \n",
       "\n",
       "     NEW_BMI_Overweight  NEW_BMI_Underweight  \n",
       "600                 1.0                  0.0  \n",
       "248                 0.0                  0.0  \n",
       "582                 1.0                  0.0  \n",
       "274                 0.0                  0.0  \n",
       "518                 0.0                  0.0  \n",
       "..                  ...                  ...  \n",
       "406                 1.0                  0.0  \n",
       "390                 0.0                  0.0  \n",
       "143                 0.0                  0.0  \n",
       "241                 0.0                  0.0  \n",
       "623                 0.0                  0.0  \n",
       "\n",
       "[537 rows x 15 columns]"
      ]
     },
     "execution_count": 103,
     "metadata": {},
     "output_type": "execute_result"
    }
   ],
   "source": [
    "X_train"
   ]
  },
  {
   "cell_type": "markdown",
   "id": "a8ecf24c-7b41-48da-90b2-98871cb85200",
   "metadata": {},
   "source": [
    "## 4. Model Selection and Development"
   ]
  },
  {
   "cell_type": "markdown",
   "id": "0cb4f09c-71c0-4b6c-8a86-b05f2e75e901",
   "metadata": {},
   "source": [
    "### 4.1 Model Selection"
   ]
  },
  {
   "cell_type": "markdown",
   "id": "ff31792d-e487-4625-999e-200393320c00",
   "metadata": {},
   "source": [
    "Our objective is to build a high acurracy precision and recall model thatis interpretable by clincians and be valated easily by real-world health care settings. Thus, I used **Logistic regression** model as it is easy to implement and interpret with less computational cost."
   ]
  },
  {
   "cell_type": "markdown",
   "id": "6d0e6fdb-5aac-46ac-acfe-626b67aade94",
   "metadata": {},
   "source": [
    "### 4.2 Model development"
   ]
  },
  {
   "cell_type": "markdown",
   "id": "b3ca37f2-c0ad-47a2-a7df-13907cf6efb5",
   "metadata": {},
   "source": [
    "#### Design and Create model"
   ]
  },
  {
   "cell_type": "markdown",
   "id": "12ac511e-4b35-4851-8371-f7bee6ce7045",
   "metadata": {},
   "source": [
    "#### Train the model"
   ]
  },
  {
   "cell_type": "code",
   "execution_count": 104,
   "id": "e1a9cf79-17f9-4ad9-83cb-3a5825ef23d6",
   "metadata": {},
   "outputs": [],
   "source": [
    "lr_model = LogisticRegression(random_state=46).fit(X_train, y_train)"
   ]
  },
  {
   "cell_type": "markdown",
   "id": "0259e370-88e6-4a19-a1f5-7f86feee4624",
   "metadata": {},
   "source": [
    "### 4.2 Test, Evaluation and Hyperparameter Tuning"
   ]
  },
  {
   "cell_type": "markdown",
   "id": "6581480d-411b-41cc-99ae-7a65b99c9537",
   "metadata": {},
   "source": [
    "#### Test and Evaluation"
   ]
  },
  {
   "cell_type": "code",
   "execution_count": 105,
   "id": "69ac9869-fa8b-401e-994b-059f1df217a1",
   "metadata": {},
   "outputs": [
    {
     "name": "stdout",
     "output_type": "stream",
     "text": [
      "Logistic Regression:\n",
      "Accuracy: 0.7446\n",
      "Recall: 0.6774\n",
      "Precision: 0.5185\n",
      "F1: 0.5874\n",
      "AUC: 0.7233\n"
     ]
    }
   ],
   "source": [
    "lr_pred = lr_model.predict(X_test)\n",
    "\n",
    "print(\"Logistic Regression:\")\n",
    "print(f\"Accuracy: {round(accuracy_score(lr_pred, y_test), 4)}\")\n",
    "print(f\"Recall: {round(recall_score(lr_pred, y_test), 4)}\")\n",
    "print(f\"Precision: {round(precision_score(lr_pred, y_test), 4)}\")\n",
    "print(f\"F1: {round(f1_score(lr_pred, y_test), 4)}\")\n",
    "print(f\"AUC: {round(roc_auc_score(lr_pred, y_test), 4)}\")"
   ]
  },
  {
   "cell_type": "markdown",
   "id": "a0f12cd7-ee8a-419c-990a-c8565a724c0d",
   "metadata": {},
   "source": [
    "#### Hyperparameter tuning and Evaluation"
   ]
  },
  {
   "cell_type": "code",
   "execution_count": 106,
   "id": "6a60dd68-6d34-401b-b0b1-78ed89005997",
   "metadata": {},
   "outputs": [
    {
     "name": "stdout",
     "output_type": "stream",
     "text": [
      "Logistic Regression - Hyperparameter Optimization\n",
      "Best Parameters: {'C': 10, 'penalty': 'l2'}\n",
      "Accuracy: 0.7655\n",
      "Recall: 0.6769\n",
      "Precision: 0.5432\n",
      "F1: 0.6027\n",
      "AUC: 0.727\n"
     ]
    }
   ],
   "source": [
    "lr_model = LogisticRegression(random_state=46)\n",
    "parameters = {'C': [0.1, 1, 10],\n",
    "              'penalty': ['l1', 'l2']}\n",
    "lr_grid = GridSearchCV(lr_model, parameters, cv=5).fit(X_train, y_train)\n",
    "\n",
    "best_lr_model = lr_grid.best_estimator_\n",
    "\n",
    "print(\"Logistic Regression - Hyperparameter Optimization\")\n",
    "print(f\"Best Parameters: {lr_grid.best_params_}\")\n",
    "print(f\"Accuracy: {round(lr_grid.best_score_, 4)}\")\n",
    "print(f\"Recall: {round(recall_score(best_lr_model.predict(X_test), y_test), 4)}\")\n",
    "print(f\"Precision: {round(precision_score(best_lr_model.predict(X_test), y_test), 4)}\")\n",
    "print(f\"F1: {round(f1_score(best_lr_model.predict(X_test), y_test), 4)}\")\n",
    "print(f\"AUC: {round(roc_auc_score(best_lr_model.predict(X_test), y_test), 4)}\")"
   ]
  },
  {
   "cell_type": "code",
   "execution_count": 111,
   "id": "e2a5e586-ca62-478a-8b59-ccbae0892a49",
   "metadata": {},
   "outputs": [],
   "source": [
    "diabetes_prediction = best_lr_model.predict(X_test)"
   ]
  },
  {
   "cell_type": "markdown",
   "id": "56bd50f8-0800-4ca7-9a19-af5b27a69769",
   "metadata": {},
   "source": [
    "## 5. Deployment"
   ]
  },
  {
   "cell_type": "code",
   "execution_count": null,
   "id": "a95a07d3-7cda-4065-8b22-662acb77723f",
   "metadata": {},
   "outputs": [],
   "source": []
  },
  {
   "cell_type": "code",
   "execution_count": null,
   "id": "cff40418-9dbd-4cef-84df-4a87e3314861",
   "metadata": {},
   "outputs": [],
   "source": [
    "\n"
   ]
  }
 ],
 "metadata": {
  "kernelspec": {
   "display_name": "Python 3 (ipykernel)",
   "language": "python",
   "name": "python3"
  },
  "language_info": {
   "codemirror_mode": {
    "name": "ipython",
    "version": 3
   },
   "file_extension": ".py",
   "mimetype": "text/x-python",
   "name": "python",
   "nbconvert_exporter": "python",
   "pygments_lexer": "ipython3",
   "version": "3.11.10"
  }
 },
 "nbformat": 4,
 "nbformat_minor": 5
}
